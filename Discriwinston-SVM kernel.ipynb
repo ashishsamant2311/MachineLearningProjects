{
 "cells": [
  {
   "cell_type": "code",
   "execution_count": 4,
   "metadata": {},
   "outputs": [],
   "source": [
    "import os\n",
    "os.chdir(\"D:/WORK/Great Lakes/5th Term/PAM/Class10\")"
   ]
  },
  {
   "cell_type": "code",
   "execution_count": 2,
   "metadata": {},
   "outputs": [],
   "source": [
    "#SVM-Example-DiscriWinston"
   ]
  },
  {
   "cell_type": "code",
   "execution_count": 5,
   "metadata": {},
   "outputs": [],
   "source": [
    "#Import Core Libraries\n",
    "import pandas as pd\n",
    "import numpy as np\n",
    "import seaborn as sns\n",
    "from matplotlib import pyplot as plt\n",
    "from sklearn.svm import SVC\n",
    "from sklearn.metrics import confusion_matrix \n",
    "from sklearn.metrics import accuracy_score, recall_score,precision_score\n",
    "from sklearn.metrics import roc_auc_score,roc_curve\n",
    "from sklearn.model_selection import train_test_split\n",
    "import warnings\n",
    "warnings.filterwarnings(\"ignore\")"
   ]
  },
  {
   "cell_type": "code",
   "execution_count": 6,
   "metadata": {},
   "outputs": [
    {
     "data": {
      "text/html": [
       "<div>\n",
       "<style scoped>\n",
       "    .dataframe tbody tr th:only-of-type {\n",
       "        vertical-align: middle;\n",
       "    }\n",
       "\n",
       "    .dataframe tbody tr th {\n",
       "        vertical-align: top;\n",
       "    }\n",
       "\n",
       "    .dataframe thead th {\n",
       "        text-align: right;\n",
       "    }\n",
       "</style>\n",
       "<table border=\"1\" class=\"dataframe\">\n",
       "  <thead>\n",
       "    <tr style=\"text-align: right;\">\n",
       "      <th></th>\n",
       "      <th>Person</th>\n",
       "      <th>Income</th>\n",
       "      <th>InvestAmt</th>\n",
       "      <th>WSJSubscriber</th>\n",
       "    </tr>\n",
       "  </thead>\n",
       "  <tbody>\n",
       "    <tr>\n",
       "      <th>0</th>\n",
       "      <td>1</td>\n",
       "      <td>66.4</td>\n",
       "      <td>26.9</td>\n",
       "      <td>No</td>\n",
       "    </tr>\n",
       "    <tr>\n",
       "      <th>1</th>\n",
       "      <td>2</td>\n",
       "      <td>68.0</td>\n",
       "      <td>7.1</td>\n",
       "      <td>No</td>\n",
       "    </tr>\n",
       "    <tr>\n",
       "      <th>2</th>\n",
       "      <td>3</td>\n",
       "      <td>54.9</td>\n",
       "      <td>21.5</td>\n",
       "      <td>No</td>\n",
       "    </tr>\n",
       "    <tr>\n",
       "      <th>3</th>\n",
       "      <td>4</td>\n",
       "      <td>50.6</td>\n",
       "      <td>19.3</td>\n",
       "      <td>No</td>\n",
       "    </tr>\n",
       "    <tr>\n",
       "      <th>4</th>\n",
       "      <td>5</td>\n",
       "      <td>54.1</td>\n",
       "      <td>16.7</td>\n",
       "      <td>No</td>\n",
       "    </tr>\n",
       "  </tbody>\n",
       "</table>\n",
       "</div>"
      ],
      "text/plain": [
       "   Person  Income  InvestAmt WSJSubscriber\n",
       "0       1    66.4       26.9            No\n",
       "1       2    68.0        7.1            No\n",
       "2       3    54.9       21.5            No\n",
       "3       4    50.6       19.3            No\n",
       "4       5    54.1       16.7            No"
      ]
     },
     "execution_count": 6,
     "metadata": {},
     "output_type": "execute_result"
    }
   ],
   "source": [
    "#Read the file\n",
    "mydata=pd.read_csv(\"DiscriWinston.csv\")\n",
    "mydata.head()"
   ]
  },
  {
   "cell_type": "code",
   "execution_count": 7,
   "metadata": {},
   "outputs": [],
   "source": [
    "#Convert Target Group Variable into 0/1 format\n",
    "mydata[\"WSJSubscriber\"]=(mydata[\"WSJSubscriber\"]==\"Yes\").astype(int)"
   ]
  },
  {
   "cell_type": "code",
   "execution_count": 8,
   "metadata": {},
   "outputs": [],
   "source": [
    "#Define X and Y\n",
    "X=mydata.iloc[:,1:3]\n",
    "Y=mydata[\"WSJSubscriber\"]"
   ]
  },
  {
   "cell_type": "code",
   "execution_count": 9,
   "metadata": {},
   "outputs": [
    {
     "data": {
      "text/plain": [
       "array([-2.68732997, -6.64812072, -3.19345691, -3.41818255, -4.09651665,\n",
       "       -2.27409312, -3.28578638, -4.44939935, -5.80474302, -2.76588313,\n",
       "       -5.55786446, -2.27219814, -3.68251591, -4.71892915, -0.20674831,\n",
       "       -0.03181999, -3.02803628, -2.96024319, -1.24022729,  1.03957498,\n",
       "       -3.36698858, -2.15912224, -3.64528184, -4.92047243, -3.18600813,\n",
       "       -1.67771529, -2.93666413, -4.63217315, -4.56097697, -0.35509117,\n",
       "       -0.85763142, -6.66140853, -3.87990204, -4.13538013, -2.8352958 ,\n",
       "       -2.49532387, -3.13726976, -2.95750236, -0.99995165, -2.95798102,\n",
       "       -2.82388329, -3.84058939, -1.43496438, -3.17299571, -4.11341082,\n",
       "       -4.17393872, -4.89311325, -5.17555383, -1.00003362, -1.16261178,\n",
       "        0.37861372, -3.29219587, -2.63857193, -3.43602422, -5.63774214,\n",
       "       -2.25467121, -1.65733605,  1.00129178,  4.12842563, -0.54803492,\n",
       "        3.37238423,  1.96443027, -0.22267533,  2.61672969,  3.23790948,\n",
       "        2.09060055,  1.2922106 ,  2.08843017,  0.94366865,  1.66283334,\n",
       "        3.81608829, -0.01710603,  1.12879642,  1.58249666,  2.57391232,\n",
       "        4.19821533, -0.64620342,  2.12143496,  3.22951321,  2.86672612,\n",
       "       -1.13536406,  0.47724121,  1.63633968,  1.92027854])"
      ]
     },
     "execution_count": 9,
     "metadata": {},
     "output_type": "execute_result"
    }
   ],
   "source": [
    "#Build the SVM Model for linear kernel\n",
    "svc_model=SVC(kernel=\"linear\",probability=True)\n",
    "SVM1=svc_model.fit(X,Y)\n",
    "SVM1\n",
    "SVM1.decision_function(X)"
   ]
  },
  {
   "cell_type": "code",
   "execution_count": 12,
   "metadata": {},
   "outputs": [
    {
     "name": "stdout",
     "output_type": "stream",
     "text": [
      "Accuracy= 0.9167\n",
      "Recall= 0.8148\n",
      "Precision 0.9167\n"
     ]
    }
   ],
   "source": [
    "#Overall Accuracy,recall,precision\n",
    "Prediction=SVM1.predict(X)\n",
    "print(\"Accuracy=\",\"{:.4f}\".format(accuracy_score(Y,Prediction)))\n",
    "print(\"Recall=\",\"{:.4f}\".format(recall_score(Y,Prediction)))\n",
    "print(\"Precision\",\"{:.4f}\".format(precision_score(Y,Prediction)))"
   ]
  },
  {
   "cell_type": "code",
   "execution_count": 13,
   "metadata": {},
   "outputs": [
    {
     "data": {
      "image/png": "[encoded data removed]",
      "text/plain": [
       "<Figure size 432x288 with 2 Axes>"
      ]
     },
     "metadata": {
      "needs_background": "light"
     },
     "output_type": "display_data"
    }
   ],
   "source": [
    "#Getting Confusion Matrix\n",
    "confusion=confusion_matrix(Y,Prediction)\n",
    "sns.heatmap(confusion,annot=True,cmap=\"Oranges\",annot_kws={\"size\":20},\n",
    "           xticklabels=[\"Not a Subscriber\",\"Subscriber\"],\n",
    "           yticklabels=[\"Not a Subscriber\",\"Subscriber\"])\n",
    "plt.ylabel(\"Actual\")\n",
    "plt.xlabel(\"Predicted\")\n",
    "plt.show()"
   ]
  },
  {
   "cell_type": "code",
   "execution_count": 14,
   "metadata": {},
   "outputs": [
    {
     "data": {
      "text/html": [
       "<div>\n",
       "<style scoped>\n",
       "    .dataframe tbody tr th:only-of-type {\n",
       "        vertical-align: middle;\n",
       "    }\n",
       "\n",
       "    .dataframe tbody tr th {\n",
       "        vertical-align: top;\n",
       "    }\n",
       "\n",
       "    .dataframe thead th {\n",
       "        text-align: right;\n",
       "    }\n",
       "</style>\n",
       "<table border=\"1\" class=\"dataframe\">\n",
       "  <thead>\n",
       "    <tr style=\"text-align: right;\">\n",
       "      <th></th>\n",
       "      <th>0</th>\n",
       "      <th>1</th>\n",
       "    </tr>\n",
       "  </thead>\n",
       "  <tbody>\n",
       "    <tr>\n",
       "      <th>0</th>\n",
       "      <td>0.947508</td>\n",
       "      <td>0.052492</td>\n",
       "    </tr>\n",
       "    <tr>\n",
       "      <th>1</th>\n",
       "      <td>0.999176</td>\n",
       "      <td>0.000824</td>\n",
       "    </tr>\n",
       "    <tr>\n",
       "      <th>2</th>\n",
       "      <td>0.968931</td>\n",
       "      <td>0.031069</td>\n",
       "    </tr>\n",
       "    <tr>\n",
       "      <th>3</th>\n",
       "      <td>0.975432</td>\n",
       "      <td>0.024568</td>\n",
       "    </tr>\n",
       "    <tr>\n",
       "      <th>4</th>\n",
       "      <td>0.987939</td>\n",
       "      <td>0.012061</td>\n",
       "    </tr>\n",
       "    <tr>\n",
       "      <th>...</th>\n",
       "      <td>...</td>\n",
       "      <td>...</td>\n",
       "    </tr>\n",
       "    <tr>\n",
       "      <th>79</th>\n",
       "      <td>0.051680</td>\n",
       "      <td>0.948320</td>\n",
       "    </tr>\n",
       "    <tr>\n",
       "      <th>80</th>\n",
       "      <td>0.786150</td>\n",
       "      <td>0.213850</td>\n",
       "    </tr>\n",
       "    <tr>\n",
       "      <th>81</th>\n",
       "      <td>0.401810</td>\n",
       "      <td>0.598190</td>\n",
       "    </tr>\n",
       "    <tr>\n",
       "      <th>82</th>\n",
       "      <td>0.165951</td>\n",
       "      <td>0.834049</td>\n",
       "    </tr>\n",
       "    <tr>\n",
       "      <th>83</th>\n",
       "      <td>0.128532</td>\n",
       "      <td>0.871468</td>\n",
       "    </tr>\n",
       "  </tbody>\n",
       "</table>\n",
       "<p>84 rows × 2 columns</p>\n",
       "</div>"
      ],
      "text/plain": [
       "           0         1\n",
       "0   0.947508  0.052492\n",
       "1   0.999176  0.000824\n",
       "2   0.968931  0.031069\n",
       "3   0.975432  0.024568\n",
       "4   0.987939  0.012061\n",
       "..       ...       ...\n",
       "79  0.051680  0.948320\n",
       "80  0.786150  0.213850\n",
       "81  0.401810  0.598190\n",
       "82  0.165951  0.834049\n",
       "83  0.128532  0.871468\n",
       "\n",
       "[84 rows x 2 columns]"
      ]
     },
     "execution_count": 14,
     "metadata": {},
     "output_type": "execute_result"
    }
   ],
   "source": [
    "#Getting Probabilities\n",
    "Probability=SVM1.predict_proba(X)\n",
    "Probability=pd.DataFrame(Probability)\n",
    "Probability"
   ]
  },
  {
   "cell_type": "code",
   "execution_count": 15,
   "metadata": {},
   "outputs": [
    {
     "data": {
      "image/png": "[encoded data removed]",
      "text/plain": [
       "<Figure size 432x288 with 1 Axes>"
      ]
     },
     "metadata": {
      "needs_background": "light"
     },
     "output_type": "display_data"
    }
   ],
   "source": [
    "#ROC Curve\n",
    "svmroc=roc_auc_score(Y,Prediction)\n",
    "fpr,tpr,thresholds=roc_curve(Y,Probability[1])\n",
    "plt.figure()\n",
    "plt.plot(fpr,tpr,color=\"red\",lw=3,label=\"SVM ROC Linear Kernel(area=%0.3f)\" %svmroc)\n",
    "plt.plot([0,1],[0,1],\"r--\")\n",
    "plt.xlim([0,1])\n",
    "plt.ylim([0,1.05])\n",
    "plt.xlabel(\"False Positive\")\n",
    "plt.ylabel(\"True Positive\")\n",
    "plt.title(\"Receiver Operating Characteristics Curve\")\n",
    "plt.legend(loc=\"lower right\")\n",
    "plt.show()"
   ]
  },
  {
   "cell_type": "code",
   "execution_count": 56,
   "metadata": {},
   "outputs": [
    {
     "data": {
      "text/plain": [
       "array([-1.00002197, -0.99980294, -0.99970095, -0.99999431, -0.99997268,\n",
       "       -0.99972453, -0.99972903, -1.00031951, -1.00000329, -1.00015807,\n",
       "       -0.99980416, -0.99959864, -1.0005335 , -0.99969819, -0.99972507,\n",
       "       -0.99970092, -0.99972427, -0.99985545, -0.99997263, -0.99997116,\n",
       "       -1.00038391, -1.00000271, -1.00040289, -1.00048356, -0.99992057,\n",
       "       -0.99999431, -1.00001612, -0.99980497, -1.00032553, -1.00002435,\n",
       "       -0.99971418, -1.00002197, -0.99971058, -1.00000254, -1.00006835,\n",
       "       -1.00025315, -0.99972532, -0.99988569, -0.99964271, -1.00002767,\n",
       "       -0.99983314, -0.99971418, -0.99965127, -1.00012092, -1.00041205,\n",
       "       -0.99996907, -1.0005217 , -1.00051854, -1.00011023, -0.99990363,\n",
       "       -1.00008524, -0.99987593, -0.99968137, -0.99964476, -0.99968823,\n",
       "       -1.00044678, -0.99973475,  1.00001994,  0.99959368,  1.00000763,\n",
       "        1.00020126,  1.0003573 ,  0.99972008,  0.99981528,  0.99997684,\n",
       "        0.99948591,  0.99961665,  1.00000361,  0.99966761,  0.9999912 ,\n",
       "        0.99997565,  0.99997232,  1.00019503,  0.99981009,  1.00012322,\n",
       "        0.99962121,  0.99955086,  1.00005619,  0.99975026,  1.00021616,\n",
       "        1.000205  ,  1.00005558,  0.9999912 ,  1.00035435])"
      ]
     },
     "execution_count": 56,
     "metadata": {},
     "output_type": "execute_result"
    }
   ],
   "source": [
    "#Build the SVM Model for linear kernel\n",
    "svc_model=SVC(kernel=\"rbf\", C=100, gamma=0.5, probability=True)\n",
    "SVM1=svc_model.fit(X,Y)\n",
    "SVM1\n",
    "SVM1.decision_function(X)"
   ]
  },
  {
   "cell_type": "code",
   "execution_count": 57,
   "metadata": {},
   "outputs": [
    {
     "name": "stdout",
     "output_type": "stream",
     "text": [
      "Accuracy= 1.0000\n",
      "Recall= 1.0000\n",
      "Precision 1.0000\n"
     ]
    }
   ],
   "source": [
    "#Overall Accuracy,recall,precision\n",
    "Prediction=SVM1.predict(X)\n",
    "print(\"Accuracy=\",\"{:.4f}\".format(accuracy_score(Y,Prediction)))\n",
    "print(\"Recall=\",\"{:.4f}\".format(recall_score(Y,Prediction)))\n",
    "print(\"Precision\",\"{:.4f}\".format(precision_score(Y,Prediction)))"
   ]
  },
  {
   "cell_type": "code",
   "execution_count": 58,
   "metadata": {},
   "outputs": [
    {
     "data": {
      "image/png": "[encoded data removed]",
      "text/plain": [
       "<Figure size 432x288 with 2 Axes>"
      ]
     },
     "metadata": {
      "needs_background": "light"
     },
     "output_type": "display_data"
    }
   ],
   "source": [
    "#Getting Confusion Matrix\n",
    "confusion=confusion_matrix(Y,Prediction)\n",
    "sns.heatmap(confusion,annot=True,cmap=\"Oranges\",annot_kws={\"size\":20},\n",
    "           xticklabels=[\"Not a Subscriber\",\"Subscriber\"],\n",
    "           yticklabels=[\"Not a Subscriber\",\"Subscriber\"])\n",
    "plt.ylabel(\"Actual\")\n",
    "plt.xlabel(\"Predicted\")\n",
    "plt.show()"
   ]
  },
  {
   "cell_type": "code",
   "execution_count": 59,
   "metadata": {},
   "outputs": [
    {
     "data": {
      "text/html": [
       "<div>\n",
       "<style scoped>\n",
       "    .dataframe tbody tr th:only-of-type {\n",
       "        vertical-align: middle;\n",
       "    }\n",
       "\n",
       "    .dataframe tbody tr th {\n",
       "        vertical-align: top;\n",
       "    }\n",
       "\n",
       "    .dataframe thead th {\n",
       "        text-align: right;\n",
       "    }\n",
       "</style>\n",
       "<table border=\"1\" class=\"dataframe\">\n",
       "  <thead>\n",
       "    <tr style=\"text-align: right;\">\n",
       "      <th></th>\n",
       "      <th>0</th>\n",
       "      <th>1</th>\n",
       "    </tr>\n",
       "  </thead>\n",
       "  <tbody>\n",
       "    <tr>\n",
       "      <th>0</th>\n",
       "      <td>0.972563</td>\n",
       "      <td>0.027437</td>\n",
       "    </tr>\n",
       "    <tr>\n",
       "      <th>1</th>\n",
       "      <td>0.972536</td>\n",
       "      <td>0.027464</td>\n",
       "    </tr>\n",
       "    <tr>\n",
       "      <th>2</th>\n",
       "      <td>0.972524</td>\n",
       "      <td>0.027476</td>\n",
       "    </tr>\n",
       "    <tr>\n",
       "      <th>3</th>\n",
       "      <td>0.972559</td>\n",
       "      <td>0.027441</td>\n",
       "    </tr>\n",
       "    <tr>\n",
       "      <th>4</th>\n",
       "      <td>0.972557</td>\n",
       "      <td>0.027443</td>\n",
       "    </tr>\n",
       "    <tr>\n",
       "      <th>...</th>\n",
       "      <td>...</td>\n",
       "      <td>...</td>\n",
       "    </tr>\n",
       "    <tr>\n",
       "      <th>79</th>\n",
       "      <td>0.005585</td>\n",
       "      <td>0.994415</td>\n",
       "    </tr>\n",
       "    <tr>\n",
       "      <th>80</th>\n",
       "      <td>0.005585</td>\n",
       "      <td>0.994415</td>\n",
       "    </tr>\n",
       "    <tr>\n",
       "      <th>81</th>\n",
       "      <td>0.005589</td>\n",
       "      <td>0.994411</td>\n",
       "    </tr>\n",
       "    <tr>\n",
       "      <th>82</th>\n",
       "      <td>0.005590</td>\n",
       "      <td>0.994410</td>\n",
       "    </tr>\n",
       "    <tr>\n",
       "      <th>83</th>\n",
       "      <td>0.005581</td>\n",
       "      <td>0.994419</td>\n",
       "    </tr>\n",
       "  </tbody>\n",
       "</table>\n",
       "<p>84 rows × 2 columns</p>\n",
       "</div>"
      ],
      "text/plain": [
       "           0         1\n",
       "0   0.972563  0.027437\n",
       "1   0.972536  0.027464\n",
       "2   0.972524  0.027476\n",
       "3   0.972559  0.027441\n",
       "4   0.972557  0.027443\n",
       "..       ...       ...\n",
       "79  0.005585  0.994415\n",
       "80  0.005585  0.994415\n",
       "81  0.005589  0.994411\n",
       "82  0.005590  0.994410\n",
       "83  0.005581  0.994419\n",
       "\n",
       "[84 rows x 2 columns]"
      ]
     },
     "execution_count": 59,
     "metadata": {},
     "output_type": "execute_result"
    }
   ],
   "source": [
    "#Getting Probabilities\n",
    "Probability=SVM1.predict_proba(X)\n",
    "Probability=pd.DataFrame(Probability)\n",
    "Probability"
   ]
  },
  {
   "cell_type": "code",
   "execution_count": 60,
   "metadata": {},
   "outputs": [
    {
     "data": {
      "image/png": "[encoded data removed]",
      "text/plain": [
       "<Figure size 432x288 with 1 Axes>"
      ]
     },
     "metadata": {
      "needs_background": "light"
     },
     "output_type": "display_data"
    }
   ],
   "source": [
    "#ROC Curve\n",
    "svmroc=roc_auc_score(Y,Prediction)\n",
    "fpr,tpr,thresholds=roc_curve(Y,Probability[1])\n",
    "plt.figure()\n",
    "plt.plot(fpr,tpr,color=\"red\",lw=3,label=\"SVM ROC Linear Kernel(area=%0.3f)\" %svmroc)\n",
    "plt.plot([0,1],[0,1],\"r--\")\n",
    "plt.xlim([0,1])\n",
    "plt.ylim([0,1.05])\n",
    "plt.xlabel(\"False Positive\")\n",
    "plt.ylabel(\"True Positive\")\n",
    "plt.title(\"Receiver Operating Characteristics Curve\")\n",
    "plt.legend(loc=\"lower right\")\n",
    "plt.show()"
   ]
  },
  {
   "cell_type": "code",
   "execution_count": null,
   "metadata": {},
   "outputs": [],
   "source": []
  }
 ],
 "metadata": {
  "kernelspec": {
   "display_name": "Python 3",
   "language": "python",
   "name": "python3"
  },
  "language_info": {
   "codemirror_mode": {
    "name": "ipython",
    "version": 3
   },
   "file_extension": ".py",
   "mimetype": "text/x-python",
   "name": "python",
   "nbconvert_exporter": "python",
   "pygments_lexer": "ipython3",
   "version": "3.8.5"
  }
 },
 "nbformat": 4,
 "nbformat_minor": 4
}
