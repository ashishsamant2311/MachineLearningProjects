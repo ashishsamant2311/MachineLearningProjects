{
 "cells": [
  {
   "cell_type": "code",
   "execution_count": 7,
   "id": "4359bdce",
   "metadata": {},
   "outputs": [
    {
     "data": {
      "text/html": [
       "<div>\n",
       "<style scoped>\n",
       "    .dataframe tbody tr th:only-of-type {\n",
       "        vertical-align: middle;\n",
       "    }\n",
       "\n",
       "    .dataframe tbody tr th {\n",
       "        vertical-align: top;\n",
       "    }\n",
       "\n",
       "    .dataframe thead th {\n",
       "        text-align: right;\n",
       "    }\n",
       "</style>\n",
       "<table border=\"1\" class=\"dataframe\">\n",
       "  <thead>\n",
       "    <tr style=\"text-align: right;\">\n",
       "      <th></th>\n",
       "      <th>Customer</th>\n",
       "      <th>Spending</th>\n",
       "      <th>Card</th>\n",
       "      <th>Purchase</th>\n",
       "    </tr>\n",
       "  </thead>\n",
       "  <tbody>\n",
       "    <tr>\n",
       "      <th>0</th>\n",
       "      <td>1</td>\n",
       "      <td>2.291</td>\n",
       "      <td>1</td>\n",
       "      <td>0</td>\n",
       "    </tr>\n",
       "    <tr>\n",
       "      <th>1</th>\n",
       "      <td>2</td>\n",
       "      <td>3.215</td>\n",
       "      <td>1</td>\n",
       "      <td>0</td>\n",
       "    </tr>\n",
       "    <tr>\n",
       "      <th>2</th>\n",
       "      <td>3</td>\n",
       "      <td>2.135</td>\n",
       "      <td>1</td>\n",
       "      <td>0</td>\n",
       "    </tr>\n",
       "    <tr>\n",
       "      <th>3</th>\n",
       "      <td>4</td>\n",
       "      <td>3.924</td>\n",
       "      <td>0</td>\n",
       "      <td>0</td>\n",
       "    </tr>\n",
       "    <tr>\n",
       "      <th>4</th>\n",
       "      <td>5</td>\n",
       "      <td>2.528</td>\n",
       "      <td>1</td>\n",
       "      <td>0</td>\n",
       "    </tr>\n",
       "  </tbody>\n",
       "</table>\n",
       "</div>"
      ],
      "text/plain": [
       "   Customer  Spending  Card  Purchase\n",
       "0         1     2.291     1         0\n",
       "1         2     3.215     1         0\n",
       "2         3     2.135     1         0\n",
       "3         4     3.924     0         0\n",
       "4         5     2.528     1         0"
      ]
     },
     "execution_count": 7,
     "metadata": {},
     "output_type": "execute_result"
    }
   ],
   "source": [
    "#Logistic Regression the crucial steps - Example: Simmons data\n",
    "#Importing the Core Libraries\n",
    "import pandas as pd\n",
    "import numpy as np\n",
    "import matplotlib.pyplot as plt\n",
    "import seaborn as sn\n",
    "#Suppress Warnings\n",
    "import warnings\n",
    "warnings.filterwarnings(\"ignore\")\n",
    "#Reading the File\n",
    "mydata=pd.read_csv(\"D:/WORK/Great Lakes/5th Term/PAM/Dataset/Logit-Simmons1.csv\")\n",
    "mydata=mydata.dropna()\n",
    "mydata.head()"
   ]
  },
  {
   "cell_type": "code",
   "execution_count": 9,
   "id": "429db11b",
   "metadata": {},
   "outputs": [
    {
     "name": "stdout",
     "output_type": "stream",
     "text": [
      "Optimization terminated successfully.\n",
      "         Current function value: 0.604869\n",
      "         Iterations 5\n",
      "                           Logit Regression Results                           \n",
      "==============================================================================\n",
      "Dep. Variable:               Purchase   No. Observations:                  100\n",
      "Model:                          Logit   Df Residuals:                       97\n",
      "Method:                           MLE   Df Model:                            2\n",
      "Date:                Sun, 20 Mar 2022   Pseudo R-squ.:                  0.1012\n",
      "Time:                        14:44:14   Log-Likelihood:                -60.487\n",
      "converged:                       True   LL-Null:                       -67.301\n",
      "Covariance Type:            nonrobust   LLR p-value:                  0.001098\n",
      "==============================================================================\n",
      "                 coef    std err          z      P>|z|      [0.025      0.975]\n",
      "------------------------------------------------------------------------------\n",
      "Intercept     -2.1464      0.577     -3.718      0.000      -3.278      -1.015\n",
      "Spending       0.3416      0.129      2.655      0.008       0.089       0.594\n",
      "Card           1.0987      0.445      2.471      0.013       0.227       1.970\n",
      "==============================================================================\n"
     ]
    }
   ],
   "source": [
    "#Building the Model\n",
    "\n",
    "import statsmodels.api as sm\n",
    "import statsmodels.formula.api as smf\n",
    "logit = smf.logit(\"Purchase~Spending+Card\",data=mydata)\n",
    "lg=logit.fit() \n",
    "print(lg.summary())\n",
    "prediction=lg.predict()"
   ]
  },
  {
   "cell_type": "code",
   "execution_count": 10,
   "id": "ea6e5e93",
   "metadata": {},
   "outputs": [
    {
     "name": "stdout",
     "output_type": "stream",
     "text": [
      "LogLikelyhoodRatio= 0.001098\n"
     ]
    }
   ],
   "source": [
    "#Step1: Overall Validity of the Model:Loglikelyhood\n",
    "print(\"LogLikelyhoodRatio=\",format(lg.llr_pvalue,\"0.6f\"))\n",
    "#Model is Valid"
   ]
  },
  {
   "cell_type": "code",
   "execution_count": 24,
   "id": "b5355244",
   "metadata": {},
   "outputs": [
    {
     "name": "stdout",
     "output_type": "stream",
     "text": [
      "McFadden Rsq= 0.10125\n"
     ]
    }
   ],
   "source": [
    "#Step2\"McFadden R Square\n",
    "McFaddenR2 = 1-(lg.llf/lg.llnull)\n",
    "print(f\"McFadden Rsq= {round(McFaddenR2,6)}\")\n",
    "#print(\"McFadden Rsq=\",format(McFaddenR2,\"0.6f\"))\n",
    "#1.Overall, the logistic regression model in this example \n",
    "#is statistically significant(PValue=0.001098 is less than alpha(0,05).\n",
    "#Therefore looks robust.\n",
    "\n",
    "#2.About 10.12% of the uncertainty produced by the \n",
    "#intercept  only model is calibrated or explained by the full model(Intercept+\n",
    "#slopes of Spending and Card)\n"
   ]
  },
  {
   "cell_type": "code",
   "execution_count": 15,
   "id": "295c5731",
   "metadata": {},
   "outputs": [
    {
     "data": {
      "text/html": [
       "<div>\n",
       "<style scoped>\n",
       "    .dataframe tbody tr th:only-of-type {\n",
       "        vertical-align: middle;\n",
       "    }\n",
       "\n",
       "    .dataframe tbody tr th {\n",
       "        vertical-align: top;\n",
       "    }\n",
       "\n",
       "    .dataframe thead th {\n",
       "        text-align: right;\n",
       "    }\n",
       "</style>\n",
       "<table border=\"1\" class=\"dataframe\">\n",
       "  <thead>\n",
       "    <tr style=\"text-align: right;\">\n",
       "      <th></th>\n",
       "      <th>coef</th>\n",
       "      <th>pval</th>\n",
       "    </tr>\n",
       "  </thead>\n",
       "  <tbody>\n",
       "    <tr>\n",
       "      <th>Intercept</th>\n",
       "      <td>-2.1464</td>\n",
       "      <td>0.0002</td>\n",
       "    </tr>\n",
       "    <tr>\n",
       "      <th>Spending</th>\n",
       "      <td>0.3416</td>\n",
       "      <td>0.0079</td>\n",
       "    </tr>\n",
       "    <tr>\n",
       "      <th>Card</th>\n",
       "      <td>1.0987</td>\n",
       "      <td>0.0135</td>\n",
       "    </tr>\n",
       "  </tbody>\n",
       "</table>\n",
       "</div>"
      ],
      "text/plain": [
       "             coef   pval\n",
       "Intercept -2.1464 0.0002\n",
       "Spending   0.3416 0.0079\n",
       "Card       1.0987 0.0135"
      ]
     },
     "execution_count": 15,
     "metadata": {},
     "output_type": "execute_result"
    }
   ],
   "source": [
    "# Step3:Test for Significance of Individual coef\n",
    "lgcoef = pd.DataFrame(lg.params, columns=['coef'])\n",
    "lgcoef['pval']=lg.pvalues\n",
    "pd.options.display.float_format = \"{:0.4f}\".format \n",
    "lgcoef"
   ]
  },
  {
   "cell_type": "code",
   "execution_count": 16,
   "id": "d52fdd7c",
   "metadata": {},
   "outputs": [
    {
     "data": {
      "text/html": [
       "<div>\n",
       "<style scoped>\n",
       "    .dataframe tbody tr th:only-of-type {\n",
       "        vertical-align: middle;\n",
       "    }\n",
       "\n",
       "    .dataframe tbody tr th {\n",
       "        vertical-align: top;\n",
       "    }\n",
       "\n",
       "    .dataframe thead th {\n",
       "        text-align: right;\n",
       "    }\n",
       "</style>\n",
       "<table border=\"1\" class=\"dataframe\">\n",
       "  <thead>\n",
       "    <tr style=\"text-align: right;\">\n",
       "      <th></th>\n",
       "      <th>coef</th>\n",
       "      <th>pval</th>\n",
       "      <th>Odds_ratio</th>\n",
       "      <th>probability</th>\n",
       "    </tr>\n",
       "  </thead>\n",
       "  <tbody>\n",
       "    <tr>\n",
       "      <th>Card</th>\n",
       "      <td>1.0987</td>\n",
       "      <td>0.0135</td>\n",
       "      <td>3.0004</td>\n",
       "      <td>0.7500</td>\n",
       "    </tr>\n",
       "    <tr>\n",
       "      <th>Spending</th>\n",
       "      <td>0.3416</td>\n",
       "      <td>0.0079</td>\n",
       "      <td>1.4073</td>\n",
       "      <td>0.5846</td>\n",
       "    </tr>\n",
       "    <tr>\n",
       "      <th>Intercept</th>\n",
       "      <td>-2.1464</td>\n",
       "      <td>0.0002</td>\n",
       "      <td>0.1169</td>\n",
       "      <td>0.1047</td>\n",
       "    </tr>\n",
       "  </tbody>\n",
       "</table>\n",
       "</div>"
      ],
      "text/plain": [
       "             coef   pval  Odds_ratio  probability\n",
       "Card       1.0987 0.0135      3.0004       0.7500\n",
       "Spending   0.3416 0.0079      1.4073       0.5846\n",
       "Intercept -2.1464 0.0002      0.1169       0.1047"
      ]
     },
     "execution_count": 16,
     "metadata": {},
     "output_type": "execute_result"
    }
   ],
   "source": [
    "# All betas are highly significant including intercept\n",
    "# Therefore all betas exist in the original population model\n",
    "\n",
    "#Step4: Odds and Probability \n",
    "#Exponential of coef to get odds ratio\n",
    "lgcoef.loc[:, \"Odds_ratio\"] = np.exp(lgcoef.coef)\n",
    "\n",
    "#Probability from Odds ratio\n",
    "lgcoef['probability'] = lgcoef['Odds_ratio']/(1+lgcoef['Odds_ratio'])\n",
    "\n",
    "#Sort dataframe by decreasing Odds ratio\n",
    "lgcoef = lgcoef.sort_values(by=\"Odds_ratio\", ascending=False)\n",
    "lgcoef\n",
    "\n",
    "#Interpretation by keeping spending constant\n",
    "#Those who use Simon Card has 3.004 times the odds of Purchase \n",
    "#Compared to  those who do not use Simon Card(Odds=1).\n",
    "#In terms of Probability, there is 75% probability that a customer \n",
    "#having Simmon Card will make $200 Purchase compared to a Customer\n",
    "# who has no Card and has just a probability of about 25%\n",
    "\n",
    "#For every 1 unit increase($1000 increase) in Spending, \n",
    "#the odds that the customer will make $200 Purchase is\n",
    "#1.41 times that of a Customer who will not make the $200 Purchase\n",
    "#provided the card status remains constant.\n",
    "#In terms of Probability, the figures will be 58.46% versus 41.54%\n"
   ]
  },
  {
   "cell_type": "code",
   "execution_count": 17,
   "id": "9b39af26",
   "metadata": {},
   "outputs": [
    {
     "name": "stdout",
     "output_type": "stream",
     "text": [
      "[[52  8]\n",
      " [20 20]]\n",
      "  \n",
      "accuracy:  0.72\n",
      "recall:  0.5\n",
      "precision:  0.71\n"
     ]
    }
   ],
   "source": [
    "#Step5: Creating the confusion matrix\n",
    "#Predict probability\n",
    "Y=mydata[\"Purchase\"]\n",
    "pred_prob = lg.predict()\n",
    "#Compute class from predicted probability\n",
    "pred_class = (pred_prob>0.5).astype(np.int)\n",
    "from sklearn.metrics import accuracy_score, confusion_matrix, recall_score, precision_score\n",
    "#Confusion matrix\n",
    "print(confusion_matrix(Y.astype(float), pred_class))\n",
    "print(\"  \")\n",
    "#Accuracy, recall, precision\n",
    "accuracy = round(accuracy_score(Y.astype(float), pred_class),2)\n",
    "recall = round(recall_score(Y.astype(float), pred_class),2)\n",
    "precision = round(precision_score(Y.astype(float), pred_class),2)\n",
    "print(\"accuracy: \",accuracy)\n",
    "print(\"recall: \",recall)\n",
    "print(\"precision: \",precision)\n"
   ]
  },
  {
   "cell_type": "code",
   "execution_count": 22,
   "id": "3f49dd27",
   "metadata": {},
   "outputs": [
    {
     "data": {
      "image/png": "[encoded data removed]",
      "text/plain": [
       "<Figure size 432x288 with 2 Axes>"
      ]
     },
     "metadata": {
      "needs_background": "light"
     },
     "output_type": "display_data"
    }
   ],
   "source": [
    "#Better Display of Confusion Matrix\n",
    "Confusion=confusion_matrix(Y.astype(float), pred_class)\n",
    "Confusion=sn.heatmap(Confusion,annot=True,cmap=(\"Greens\"),\n",
    "                     annot_kws={\"size\":20},\n",
    "                    xticklabels=[\"Not Purchased\",\"Purchased\"],\n",
    "                    yticklabels=[\"Not Purchased\",\"Purchased\"])\n",
    "plt.xlabel(\"Predicted\")\n",
    "plt.ylabel(\"Actual\")\n",
    "plt.show()"
   ]
  },
  {
   "cell_type": "code",
   "execution_count": 12,
   "id": "6cd5ff19",
   "metadata": {},
   "outputs": [
    {
     "data": {
      "image/png": "[encoded data removed]",
      "text/plain": [
       "<Figure size 432x288 with 1 Axes>"
      ]
     },
     "metadata": {
      "needs_background": "light"
     },
     "output_type": "display_data"
    }
   ],
   "source": [
    "#Step6:ROC Curve\n",
    "from sklearn.metrics import roc_auc_score\n",
    "from sklearn.metrics import roc_curve\n",
    "logit_roc_auc = roc_auc_score(Y.astype(float), pred_class)\n",
    "fpr, tpr, thresholds = roc_curve(Y.astype(float), pred_prob)\n",
    "plt.figure()\n",
    "plt.plot(fpr, tpr, label='Logistic Regression (area = %0.3f)' % logit_roc_auc)\n",
    "plt.plot([0, 1], [0, 1],'r--')\n",
    "plt.xlim([0.0, 1.0])\n",
    "plt.ylim([0.0, 1.05])\n",
    "plt.xlabel('False Positive Rate')\n",
    "plt.ylabel('True Positive Rate')\n",
    "plt.title('Receiver operating characteristic')\n",
    "plt.legend(loc=\"lower right\")\n",
    "plt.savefig('Log_ROC')\n",
    "plt.show()\n"
   ]
  },
  {
   "cell_type": "code",
   "execution_count": null,
   "id": "4e91e708",
   "metadata": {},
   "outputs": [],
   "source": []
  }
 ],
 "metadata": {
  "kernelspec": {
   "display_name": "Python 3 (ipykernel)",
   "language": "python",
   "name": "python3"
  },
  "language_info": {
   "codemirror_mode": {
    "name": "ipython",
    "version": 3
   },
   "file_extension": ".py",
   "mimetype": "text/x-python",
   "name": "python",
   "nbconvert_exporter": "python",
   "pygments_lexer": "ipython3",
   "version": "3.9.7"
  }
 },
 "nbformat": 4,
 "nbformat_minor": 5
}
