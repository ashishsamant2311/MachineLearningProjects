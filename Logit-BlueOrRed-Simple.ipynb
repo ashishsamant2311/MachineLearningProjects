{
 "cells": [
  {
   "cell_type": "code",
   "execution_count": 1,
   "metadata": {},
   "outputs": [],
   "source": [
    "# Logistic REgression-BlueOrRed"
   ]
  },
  {
   "cell_type": "code",
   "execution_count": 2,
   "metadata": {},
   "outputs": [],
   "source": [
    "# Import the required libraries\n",
    "import pandas as pd\n",
    "import numpy as np\n",
    "import matplotlib.pyplot as plt\n",
    "import seaborn as sns"
   ]
  },
  {
   "cell_type": "code",
   "execution_count": 3,
   "metadata": {},
   "outputs": [
    {
     "data": {
      "text/plain": [
       "'C:\\\\Users\\\\Rakeshan Saravanan\\\\PAM'"
      ]
     },
     "execution_count": 3,
     "metadata": {},
     "output_type": "execute_result"
    }
   ],
   "source": [
    "import os\n",
    "\n",
    "os.getcwd()"
   ]
  },
  {
   "cell_type": "code",
   "execution_count": 8,
   "metadata": {},
   "outputs": [],
   "source": [
    "os.chdir(\"D:/WORK/Great Lakes/5th Term/PAM/Class 4\")"
   ]
  },
  {
   "cell_type": "code",
   "execution_count": 9,
   "metadata": {},
   "outputs": [],
   "source": [
    "## Suppress warning messages\n",
    "import warnings\n",
    "warnings.filterwarnings(\"ignore\")"
   ]
  },
  {
   "cell_type": "code",
   "execution_count": 10,
   "metadata": {},
   "outputs": [
    {
     "name": "stdout",
     "output_type": "stream",
     "text": [
      "<class 'pandas.core.frame.DataFrame'>\n",
      "RangeIndex: 10000 entries, 0 to 9999\n",
      "Data columns (total 9 columns):\n",
      " #   Column         Non-Null Count  Dtype  \n",
      "---  ------         --------------  -----  \n",
      " 0   Undecided      10000 non-null  int64  \n",
      " 1   Age            10000 non-null  int64  \n",
      " 2   HomeOwner      10000 non-null  int64  \n",
      " 3   Female         10000 non-null  int64  \n",
      " 4   Married        10000 non-null  int64  \n",
      " 5   HouseholdSize  10000 non-null  int64  \n",
      " 6   Income         10000 non-null  float64\n",
      " 7   Education      10000 non-null  int64  \n",
      " 8   Church         10000 non-null  int64  \n",
      "dtypes: float64(1), int64(8)\n",
      "memory usage: 703.2 KB\n"
     ]
    },
    {
     "data": {
      "text/html": [
       "<div>\n",
       "<style scoped>\n",
       "    .dataframe tbody tr th:only-of-type {\n",
       "        vertical-align: middle;\n",
       "    }\n",
       "\n",
       "    .dataframe tbody tr th {\n",
       "        vertical-align: top;\n",
       "    }\n",
       "\n",
       "    .dataframe thead th {\n",
       "        text-align: right;\n",
       "    }\n",
       "</style>\n",
       "<table border=\"1\" class=\"dataframe\">\n",
       "  <thead>\n",
       "    <tr style=\"text-align: right;\">\n",
       "      <th></th>\n",
       "      <th>Undecided</th>\n",
       "      <th>Age</th>\n",
       "      <th>HomeOwner</th>\n",
       "      <th>Female</th>\n",
       "      <th>Married</th>\n",
       "      <th>HouseholdSize</th>\n",
       "      <th>Income</th>\n",
       "      <th>Education</th>\n",
       "      <th>Church</th>\n",
       "    </tr>\n",
       "  </thead>\n",
       "  <tbody>\n",
       "    <tr>\n",
       "      <th>0</th>\n",
       "      <td>1</td>\n",
       "      <td>51</td>\n",
       "      <td>1</td>\n",
       "      <td>1</td>\n",
       "      <td>1</td>\n",
       "      <td>4</td>\n",
       "      <td>171.0</td>\n",
       "      <td>15</td>\n",
       "      <td>0</td>\n",
       "    </tr>\n",
       "    <tr>\n",
       "      <th>1</th>\n",
       "      <td>1</td>\n",
       "      <td>37</td>\n",
       "      <td>1</td>\n",
       "      <td>1</td>\n",
       "      <td>1</td>\n",
       "      <td>3</td>\n",
       "      <td>96.0</td>\n",
       "      <td>18</td>\n",
       "      <td>0</td>\n",
       "    </tr>\n",
       "    <tr>\n",
       "      <th>2</th>\n",
       "      <td>1</td>\n",
       "      <td>53</td>\n",
       "      <td>1</td>\n",
       "      <td>1</td>\n",
       "      <td>1</td>\n",
       "      <td>6</td>\n",
       "      <td>86.0</td>\n",
       "      <td>20</td>\n",
       "      <td>0</td>\n",
       "    </tr>\n",
       "    <tr>\n",
       "      <th>3</th>\n",
       "      <td>0</td>\n",
       "      <td>33</td>\n",
       "      <td>1</td>\n",
       "      <td>1</td>\n",
       "      <td>1</td>\n",
       "      <td>2</td>\n",
       "      <td>176.0</td>\n",
       "      <td>18</td>\n",
       "      <td>1</td>\n",
       "    </tr>\n",
       "    <tr>\n",
       "      <th>4</th>\n",
       "      <td>0</td>\n",
       "      <td>46</td>\n",
       "      <td>1</td>\n",
       "      <td>1</td>\n",
       "      <td>1</td>\n",
       "      <td>6</td>\n",
       "      <td>420.0</td>\n",
       "      <td>15</td>\n",
       "      <td>1</td>\n",
       "    </tr>\n",
       "  </tbody>\n",
       "</table>\n",
       "</div>"
      ],
      "text/plain": [
       "   Undecided  Age  HomeOwner  Female  Married  HouseholdSize  Income  \\\n",
       "0          1   51          1       1        1              4   171.0   \n",
       "1          1   37          1       1        1              3    96.0   \n",
       "2          1   53          1       1        1              6    86.0   \n",
       "3          0   33          1       1        1              2   176.0   \n",
       "4          0   46          1       1        1              6   420.0   \n",
       "\n",
       "   Education  Church  \n",
       "0         15       0  \n",
       "1         18       0  \n",
       "2         20       0  \n",
       "3         18       1  \n",
       "4         15       1  "
      ]
     },
     "execution_count": 10,
     "metadata": {},
     "output_type": "execute_result"
    }
   ],
   "source": [
    "mydata=pd.read_csv(\"BlueOrRed.csv\")\n",
    "mydata.info()\n",
    "mydata.head()"
   ]
  },
  {
   "cell_type": "code",
   "execution_count": 11,
   "metadata": {},
   "outputs": [
    {
     "data": {
      "text/plain": [
       "0    5986\n",
       "1    4014\n",
       "Name: Undecided, dtype: int64"
      ]
     },
     "execution_count": 11,
     "metadata": {},
     "output_type": "execute_result"
    }
   ],
   "source": [
    "# Calculate baseline proportion of Y variable\n",
    "mydata['Undecided'].value_counts()"
   ]
  },
  {
   "cell_type": "code",
   "execution_count": 15,
   "metadata": {},
   "outputs": [
    {
     "data": {
      "text/html": [
       "<div>\n",
       "<style scoped>\n",
       "    .dataframe tbody tr th:only-of-type {\n",
       "        vertical-align: middle;\n",
       "    }\n",
       "\n",
       "    .dataframe tbody tr th {\n",
       "        vertical-align: top;\n",
       "    }\n",
       "\n",
       "    .dataframe thead th {\n",
       "        text-align: right;\n",
       "    }\n",
       "</style>\n",
       "<table border=\"1\" class=\"dataframe\">\n",
       "  <thead>\n",
       "    <tr style=\"text-align: right;\">\n",
       "      <th></th>\n",
       "      <th>Undecided</th>\n",
       "    </tr>\n",
       "  </thead>\n",
       "  <tbody>\n",
       "    <tr>\n",
       "      <th>0</th>\n",
       "      <td>1</td>\n",
       "    </tr>\n",
       "    <tr>\n",
       "      <th>1</th>\n",
       "      <td>1</td>\n",
       "    </tr>\n",
       "    <tr>\n",
       "      <th>2</th>\n",
       "      <td>1</td>\n",
       "    </tr>\n",
       "    <tr>\n",
       "      <th>3</th>\n",
       "      <td>0</td>\n",
       "    </tr>\n",
       "    <tr>\n",
       "      <th>4</th>\n",
       "      <td>0</td>\n",
       "    </tr>\n",
       "  </tbody>\n",
       "</table>\n",
       "</div>"
      ],
      "text/plain": [
       "   Undecided\n",
       "0          1\n",
       "1          1\n",
       "2          1\n",
       "3          0\n",
       "4          0"
      ]
     },
     "execution_count": 15,
     "metadata": {},
     "output_type": "execute_result"
    }
   ],
   "source": [
    "Y = mydata.iloc[:, 0:1]\n",
    "X = mydata.iloc[:, 1:]\n",
    "Y.head()"
   ]
  },
  {
   "cell_type": "code",
   "execution_count": 16,
   "metadata": {},
   "outputs": [
    {
     "name": "stdout",
     "output_type": "stream",
     "text": [
      "      Age  HomeOwner  Female  Married  HouseholdSize  Income  Education  \\\n",
      "9069   60          1       1        1              2    65.0         20   \n",
      "2603   30          0       1        1              2    27.0          9   \n",
      "7738   35          1       1        1              3   305.0         15   \n",
      "1579   56          1       1        1              5    39.0         16   \n",
      "5058   50          1       1        1              2     6.0          9   \n",
      "\n",
      "      Church  Undecided  \n",
      "9069       0          1  \n",
      "2603       0          0  \n",
      "7738       1          0  \n",
      "1579       1          1  \n",
      "5058       0          0  \n"
     ]
    },
    {
     "data": {
      "text/html": [
       "<div>\n",
       "<style scoped>\n",
       "    .dataframe tbody tr th:only-of-type {\n",
       "        vertical-align: middle;\n",
       "    }\n",
       "\n",
       "    .dataframe tbody tr th {\n",
       "        vertical-align: top;\n",
       "    }\n",
       "\n",
       "    .dataframe thead th {\n",
       "        text-align: right;\n",
       "    }\n",
       "</style>\n",
       "<table border=\"1\" class=\"dataframe\">\n",
       "  <thead>\n",
       "    <tr style=\"text-align: right;\">\n",
       "      <th></th>\n",
       "      <th>Age</th>\n",
       "      <th>HomeOwner</th>\n",
       "      <th>Female</th>\n",
       "      <th>Married</th>\n",
       "      <th>HouseholdSize</th>\n",
       "      <th>Income</th>\n",
       "      <th>Education</th>\n",
       "      <th>Church</th>\n",
       "    </tr>\n",
       "  </thead>\n",
       "  <tbody>\n",
       "    <tr>\n",
       "      <th>6252</th>\n",
       "      <td>50</td>\n",
       "      <td>1</td>\n",
       "      <td>1</td>\n",
       "      <td>0</td>\n",
       "      <td>6</td>\n",
       "      <td>62.0</td>\n",
       "      <td>20</td>\n",
       "      <td>0</td>\n",
       "    </tr>\n",
       "    <tr>\n",
       "      <th>4684</th>\n",
       "      <td>38</td>\n",
       "      <td>1</td>\n",
       "      <td>0</td>\n",
       "      <td>0</td>\n",
       "      <td>1</td>\n",
       "      <td>70.0</td>\n",
       "      <td>8</td>\n",
       "      <td>0</td>\n",
       "    </tr>\n",
       "    <tr>\n",
       "      <th>1731</th>\n",
       "      <td>38</td>\n",
       "      <td>1</td>\n",
       "      <td>1</td>\n",
       "      <td>1</td>\n",
       "      <td>5</td>\n",
       "      <td>65.5</td>\n",
       "      <td>18</td>\n",
       "      <td>0</td>\n",
       "    </tr>\n",
       "    <tr>\n",
       "      <th>4742</th>\n",
       "      <td>36</td>\n",
       "      <td>1</td>\n",
       "      <td>0</td>\n",
       "      <td>1</td>\n",
       "      <td>4</td>\n",
       "      <td>199.0</td>\n",
       "      <td>15</td>\n",
       "      <td>0</td>\n",
       "    </tr>\n",
       "    <tr>\n",
       "      <th>4521</th>\n",
       "      <td>55</td>\n",
       "      <td>0</td>\n",
       "      <td>0</td>\n",
       "      <td>1</td>\n",
       "      <td>2</td>\n",
       "      <td>78.0</td>\n",
       "      <td>8</td>\n",
       "      <td>0</td>\n",
       "    </tr>\n",
       "  </tbody>\n",
       "</table>\n",
       "</div>"
      ],
      "text/plain": [
       "      Age  HomeOwner  Female  Married  HouseholdSize  Income  Education  \\\n",
       "6252   50          1       1        0              6    62.0         20   \n",
       "4684   38          1       0        0              1    70.0          8   \n",
       "1731   38          1       1        1              5    65.5         18   \n",
       "4742   36          1       0        1              4   199.0         15   \n",
       "4521   55          0       0        1              2    78.0          8   \n",
       "\n",
       "      Church  \n",
       "6252       0  \n",
       "4684       0  \n",
       "1731       0  \n",
       "4742       0  \n",
       "4521       0  "
      ]
     },
     "execution_count": 16,
     "metadata": {},
     "output_type": "execute_result"
    }
   ],
   "source": [
    "from sklearn.model_selection import train_test_split\n",
    "X_train, X_test, Y_train, Y_test = train_test_split(X, Y, test_size=0.3, random_state=42)\n",
    "X_train.head()\n",
    "Y_train.head()\n",
    "X_train[\"Undecided\"] = Y_train\n",
    "print(X_train.head())\n",
    "X_test.head()"
   ]
  },
  {
   "cell_type": "code",
   "execution_count": 17,
   "metadata": {},
   "outputs": [
    {
     "name": "stdout",
     "output_type": "stream",
     "text": [
      "Optimization terminated successfully.\n",
      "         Current function value: 0.526372\n",
      "         Iterations 6\n"
     ]
    },
    {
     "data": {
      "text/html": [
       "<table class=\"simpletable\">\n",
       "<caption>Logit Regression Results</caption>\n",
       "<tr>\n",
       "  <th>Dep. Variable:</th>       <td>Undecided</td>    <th>  No. Observations:  </th>  <td>  7000</td> \n",
       "</tr>\n",
       "<tr>\n",
       "  <th>Model:</th>                 <td>Logit</td>      <th>  Df Residuals:      </th>  <td>  6991</td> \n",
       "</tr>\n",
       "<tr>\n",
       "  <th>Method:</th>                 <td>MLE</td>       <th>  Df Model:          </th>  <td>     8</td> \n",
       "</tr>\n",
       "<tr>\n",
       "  <th>Date:</th>            <td>Thu, 24 Feb 2022</td> <th>  Pseudo R-squ.:     </th>  <td>0.2200</td> \n",
       "</tr>\n",
       "<tr>\n",
       "  <th>Time:</th>                <td>10:43:01</td>     <th>  Log-Likelihood:    </th> <td> -3684.6</td>\n",
       "</tr>\n",
       "<tr>\n",
       "  <th>converged:</th>             <td>True</td>       <th>  LL-Null:           </th> <td> -4724.1</td>\n",
       "</tr>\n",
       "<tr>\n",
       "  <th>Covariance Type:</th>     <td>nonrobust</td>    <th>  LLR p-value:       </th>  <td> 0.000</td> \n",
       "</tr>\n",
       "</table>\n",
       "<table class=\"simpletable\">\n",
       "<tr>\n",
       "        <td></td>           <th>coef</th>     <th>std err</th>      <th>z</th>      <th>P>|z|</th>  <th>[0.025</th>    <th>0.975]</th>  \n",
       "</tr>\n",
       "<tr>\n",
       "  <th>Intercept</th>     <td>   -3.7707</td> <td>    0.201</td> <td>  -18.753</td> <td> 0.000</td> <td>   -4.165</td> <td>   -3.377</td>\n",
       "</tr>\n",
       "<tr>\n",
       "  <th>Age</th>           <td>   -0.0133</td> <td>    0.003</td> <td>   -4.806</td> <td> 0.000</td> <td>   -0.019</td> <td>   -0.008</td>\n",
       "</tr>\n",
       "<tr>\n",
       "  <th>HomeOwner</th>     <td>    0.5225</td> <td>    0.088</td> <td>    5.959</td> <td> 0.000</td> <td>    0.351</td> <td>    0.694</td>\n",
       "</tr>\n",
       "<tr>\n",
       "  <th>Female</th>        <td>    1.1589</td> <td>    0.076</td> <td>   15.307</td> <td> 0.000</td> <td>    1.011</td> <td>    1.307</td>\n",
       "</tr>\n",
       "<tr>\n",
       "  <th>Married</th>       <td>    0.2114</td> <td>    0.077</td> <td>    2.731</td> <td> 0.006</td> <td>    0.060</td> <td>    0.363</td>\n",
       "</tr>\n",
       "<tr>\n",
       "  <th>HouseholdSize</th> <td>    0.1821</td> <td>    0.021</td> <td>    8.620</td> <td> 0.000</td> <td>    0.141</td> <td>    0.223</td>\n",
       "</tr>\n",
       "<tr>\n",
       "  <th>Income</th>        <td>   -0.0060</td> <td>    0.000</td> <td>  -13.029</td> <td> 0.000</td> <td>   -0.007</td> <td>   -0.005</td>\n",
       "</tr>\n",
       "<tr>\n",
       "  <th>Education</th>     <td>    0.2097</td> <td>    0.008</td> <td>   25.222</td> <td> 0.000</td> <td>    0.193</td> <td>    0.226</td>\n",
       "</tr>\n",
       "<tr>\n",
       "  <th>Church</th>        <td>   -1.6739</td> <td>    0.059</td> <td>  -28.135</td> <td> 0.000</td> <td>   -1.791</td> <td>   -1.557</td>\n",
       "</tr>\n",
       "</table>"
      ],
      "text/plain": [
       "<class 'statsmodels.iolib.summary.Summary'>\n",
       "\"\"\"\n",
       "                           Logit Regression Results                           \n",
       "==============================================================================\n",
       "Dep. Variable:              Undecided   No. Observations:                 7000\n",
       "Model:                          Logit   Df Residuals:                     6991\n",
       "Method:                           MLE   Df Model:                            8\n",
       "Date:                Thu, 24 Feb 2022   Pseudo R-squ.:                  0.2200\n",
       "Time:                        10:43:01   Log-Likelihood:                -3684.6\n",
       "converged:                       True   LL-Null:                       -4724.1\n",
       "Covariance Type:            nonrobust   LLR p-value:                     0.000\n",
       "=================================================================================\n",
       "                    coef    std err          z      P>|z|      [0.025      0.975]\n",
       "---------------------------------------------------------------------------------\n",
       "Intercept        -3.7707      0.201    -18.753      0.000      -4.165      -3.377\n",
       "Age              -0.0133      0.003     -4.806      0.000      -0.019      -0.008\n",
       "HomeOwner         0.5225      0.088      5.959      0.000       0.351       0.694\n",
       "Female            1.1589      0.076     15.307      0.000       1.011       1.307\n",
       "Married           0.2114      0.077      2.731      0.006       0.060       0.363\n",
       "HouseholdSize     0.1821      0.021      8.620      0.000       0.141       0.223\n",
       "Income           -0.0060      0.000    -13.029      0.000      -0.007      -0.005\n",
       "Education         0.2097      0.008     25.222      0.000       0.193       0.226\n",
       "Church           -1.6739      0.059    -28.135      0.000      -1.791      -1.557\n",
       "=================================================================================\n",
       "\"\"\""
      ]
     },
     "execution_count": 17,
     "metadata": {},
     "output_type": "execute_result"
    }
   ],
   "source": [
    "#Build the logistic regression model\n",
    "import statsmodels.api as sm\n",
    "import statsmodels.formula.api as smf\n",
    "logit_train=smf.logit(\"Undecided~Age+HomeOwner+Female+Married+HouseholdSize+Income+Education+Church\",data=X_train)\n",
    "lg=logit_train.fit() \n",
    "lg.summary()"
   ]
  },
  {
   "cell_type": "markdown",
   "metadata": {},
   "source": [
    "## Step1 - Overall significance of the model"
   ]
  },
  {
   "cell_type": "code",
   "execution_count": 19,
   "metadata": {},
   "outputs": [
    {
     "data": {
      "text/plain": [
       "0.0"
      ]
     },
     "execution_count": 19,
     "metadata": {},
     "output_type": "execute_result"
    }
   ],
   "source": [
    "# P-Value of the overall model\n",
    "lg.llr_pvalue"
   ]
  },
  {
   "cell_type": "code",
   "execution_count": 20,
   "metadata": {},
   "outputs": [],
   "source": [
    "# Interptetation: The LogLikelyhood ratio is overwhelmingly significant (If you fix alpha as 0.05)\n",
    "# So, we can build a logistic ragression model based on the input variables for this case study."
   ]
  },
  {
   "cell_type": "code",
   "execution_count": 21,
   "metadata": {},
   "outputs": [],
   "source": [
    "# alpha is the desired risk of which you would like to compare the actual risk to.\n",
    "# the null hypothesis is that the actual risk is equal to the desired risk.\n",
    "# P-value is the probability of commiting type one error."
   ]
  },
  {
   "cell_type": "markdown",
   "metadata": {},
   "source": [
    "## Step2 - Intrepreting the McFadden R2"
   ]
  },
  {
   "cell_type": "code",
   "execution_count": 22,
   "metadata": {},
   "outputs": [
    {
     "name": "stdout",
     "output_type": "stream",
     "text": [
      "Gain = 1039.531992696251 G2Stat = 2079.063985392502\n"
     ]
    }
   ],
   "source": [
    "#Calculating gain\n",
    "Gain = lg.llf-lg.llnull\n",
    "G2Stat = Gain *2\n",
    "\n",
    "print(\"Gain =\",Gain, \"G2Stat =\",G2Stat)"
   ]
  },
  {
   "cell_type": "code",
   "execution_count": 23,
   "metadata": {},
   "outputs": [
    {
     "name": "stdout",
     "output_type": "stream",
     "text": [
      "McFaddenR2 =  0.22004689961146595\n"
     ]
    }
   ],
   "source": [
    "#Calculating McFadden R2\n",
    "McFaddenR2 = 1-(lg.llf/lg.llnull)\n",
    "print(\"McFaddenR2 = \", McFaddenR2)"
   ]
  },
  {
   "cell_type": "markdown",
   "metadata": {},
   "source": [
    "----------------------"
   ]
  },
  {
   "cell_type": "markdown",
   "metadata": {},
   "source": [
    "## Interpretation of McFadden R2 - 22.00% of the uncertainity produced by the intercept only model is explained by the full model. The fit is pretty good."
   ]
  },
  {
   "cell_type": "markdown",
   "metadata": {},
   "source": [
    "## Step3 - Individual coefficient signifcance"
   ]
  },
  {
   "cell_type": "code",
   "execution_count": 24,
   "metadata": {},
   "outputs": [
    {
     "data": {
      "text/html": [
       "<div>\n",
       "<style scoped>\n",
       "    .dataframe tbody tr th:only-of-type {\n",
       "        vertical-align: middle;\n",
       "    }\n",
       "\n",
       "    .dataframe tbody tr th {\n",
       "        vertical-align: top;\n",
       "    }\n",
       "\n",
       "    .dataframe thead th {\n",
       "        text-align: right;\n",
       "    }\n",
       "</style>\n",
       "<table border=\"1\" class=\"dataframe\">\n",
       "  <thead>\n",
       "    <tr style=\"text-align: right;\">\n",
       "      <th></th>\n",
       "      <th>coef</th>\n",
       "      <th>pval</th>\n",
       "    </tr>\n",
       "  </thead>\n",
       "  <tbody>\n",
       "    <tr>\n",
       "      <th>Intercept</th>\n",
       "      <td>-3.7707</td>\n",
       "      <td>0.0000</td>\n",
       "    </tr>\n",
       "    <tr>\n",
       "      <th>Age</th>\n",
       "      <td>-0.0133</td>\n",
       "      <td>0.0000</td>\n",
       "    </tr>\n",
       "    <tr>\n",
       "      <th>HomeOwner</th>\n",
       "      <td>0.5225</td>\n",
       "      <td>0.0000</td>\n",
       "    </tr>\n",
       "    <tr>\n",
       "      <th>Female</th>\n",
       "      <td>1.1589</td>\n",
       "      <td>0.0000</td>\n",
       "    </tr>\n",
       "    <tr>\n",
       "      <th>Married</th>\n",
       "      <td>0.2114</td>\n",
       "      <td>0.0063</td>\n",
       "    </tr>\n",
       "    <tr>\n",
       "      <th>HouseholdSize</th>\n",
       "      <td>0.1821</td>\n",
       "      <td>0.0000</td>\n",
       "    </tr>\n",
       "    <tr>\n",
       "      <th>Income</th>\n",
       "      <td>-0.0060</td>\n",
       "      <td>0.0000</td>\n",
       "    </tr>\n",
       "    <tr>\n",
       "      <th>Education</th>\n",
       "      <td>0.2097</td>\n",
       "      <td>0.0000</td>\n",
       "    </tr>\n",
       "    <tr>\n",
       "      <th>Church</th>\n",
       "      <td>-1.6739</td>\n",
       "      <td>0.0000</td>\n",
       "    </tr>\n",
       "  </tbody>\n",
       "</table>\n",
       "</div>"
      ],
      "text/plain": [
       "                 coef   pval\n",
       "Intercept     -3.7707 0.0000\n",
       "Age           -0.0133 0.0000\n",
       "HomeOwner      0.5225 0.0000\n",
       "Female         1.1589 0.0000\n",
       "Married        0.2114 0.0063\n",
       "HouseholdSize  0.1821 0.0000\n",
       "Income        -0.0060 0.0000\n",
       "Education      0.2097 0.0000\n",
       "Church        -1.6739 0.0000"
      ]
     },
     "execution_count": 24,
     "metadata": {},
     "output_type": "execute_result"
    }
   ],
   "source": [
    "# Individual coef\n",
    "lgcoef = pd.DataFrame(lg.params, columns=['coef'])\n",
    "lgcoef['pval']=lg.pvalues\n",
    "pd.options.display.float_format = '{:.4f}'.format\n",
    "lgcoef"
   ]
  },
  {
   "cell_type": "code",
   "execution_count": 25,
   "metadata": {},
   "outputs": [],
   "source": [
    "# Interpretation: At 5% level of significance, P values for all betas show tat they are overwhelmingly significant\n",
    "# implying all betas are prestnt in the model and they are definitely non-zero.\n",
    "# Therefore the model based on training data is robust"
   ]
  },
  {
   "cell_type": "markdown",
   "metadata": {},
   "source": [
    "## Step4 - Calculate the interpter the odds ratio and probability"
   ]
  },
  {
   "cell_type": "code",
   "execution_count": 26,
   "metadata": {},
   "outputs": [
    {
     "data": {
      "text/html": [
       "<div>\n",
       "<style scoped>\n",
       "    .dataframe tbody tr th:only-of-type {\n",
       "        vertical-align: middle;\n",
       "    }\n",
       "\n",
       "    .dataframe tbody tr th {\n",
       "        vertical-align: top;\n",
       "    }\n",
       "\n",
       "    .dataframe thead th {\n",
       "        text-align: right;\n",
       "    }\n",
       "</style>\n",
       "<table border=\"1\" class=\"dataframe\">\n",
       "  <thead>\n",
       "    <tr style=\"text-align: right;\">\n",
       "      <th></th>\n",
       "      <th>coef</th>\n",
       "      <th>pval</th>\n",
       "      <th>Odds_ratio</th>\n",
       "      <th>probability</th>\n",
       "    </tr>\n",
       "  </thead>\n",
       "  <tbody>\n",
       "    <tr>\n",
       "      <th>Female</th>\n",
       "      <td>1.1589</td>\n",
       "      <td>0.0000</td>\n",
       "      <td>3.1865</td>\n",
       "      <td>0.7611</td>\n",
       "    </tr>\n",
       "    <tr>\n",
       "      <th>HomeOwner</th>\n",
       "      <td>0.5225</td>\n",
       "      <td>0.0000</td>\n",
       "      <td>1.6862</td>\n",
       "      <td>0.6277</td>\n",
       "    </tr>\n",
       "    <tr>\n",
       "      <th>Married</th>\n",
       "      <td>0.2114</td>\n",
       "      <td>0.0063</td>\n",
       "      <td>1.2354</td>\n",
       "      <td>0.5527</td>\n",
       "    </tr>\n",
       "    <tr>\n",
       "      <th>Education</th>\n",
       "      <td>0.2097</td>\n",
       "      <td>0.0000</td>\n",
       "      <td>1.2333</td>\n",
       "      <td>0.5522</td>\n",
       "    </tr>\n",
       "    <tr>\n",
       "      <th>HouseholdSize</th>\n",
       "      <td>0.1821</td>\n",
       "      <td>0.0000</td>\n",
       "      <td>1.1997</td>\n",
       "      <td>0.5454</td>\n",
       "    </tr>\n",
       "    <tr>\n",
       "      <th>Income</th>\n",
       "      <td>-0.0060</td>\n",
       "      <td>0.0000</td>\n",
       "      <td>0.9940</td>\n",
       "      <td>0.4985</td>\n",
       "    </tr>\n",
       "    <tr>\n",
       "      <th>Age</th>\n",
       "      <td>-0.0133</td>\n",
       "      <td>0.0000</td>\n",
       "      <td>0.9867</td>\n",
       "      <td>0.4967</td>\n",
       "    </tr>\n",
       "    <tr>\n",
       "      <th>Church</th>\n",
       "      <td>-1.6739</td>\n",
       "      <td>0.0000</td>\n",
       "      <td>0.1875</td>\n",
       "      <td>0.1579</td>\n",
       "    </tr>\n",
       "    <tr>\n",
       "      <th>Intercept</th>\n",
       "      <td>-3.7707</td>\n",
       "      <td>0.0000</td>\n",
       "      <td>0.0230</td>\n",
       "      <td>0.0225</td>\n",
       "    </tr>\n",
       "  </tbody>\n",
       "</table>\n",
       "</div>"
      ],
      "text/plain": [
       "                 coef   pval  Odds_ratio  probability\n",
       "Female         1.1589 0.0000      3.1865       0.7611\n",
       "HomeOwner      0.5225 0.0000      1.6862       0.6277\n",
       "Married        0.2114 0.0063      1.2354       0.5527\n",
       "Education      0.2097 0.0000      1.2333       0.5522\n",
       "HouseholdSize  0.1821 0.0000      1.1997       0.5454\n",
       "Income        -0.0060 0.0000      0.9940       0.4985\n",
       "Age           -0.0133 0.0000      0.9867       0.4967\n",
       "Church        -1.6739 0.0000      0.1875       0.1579\n",
       "Intercept     -3.7707 0.0000      0.0230       0.0225"
      ]
     },
     "execution_count": 26,
     "metadata": {},
     "output_type": "execute_result"
    }
   ],
   "source": [
    "#Exponential of coef to get odds ratio\n",
    "lgcoef.loc[:, \"Odds_ratio\"] = np.exp(lgcoef.coef)\n",
    "\n",
    "#Probability from Odds ratio\n",
    "lgcoef['probability'] = lgcoef['Odds_ratio']/(1+lgcoef['Odds_ratio'])\n",
    "\n",
    "#Sort dataframe by decreasing Odds ratio\n",
    "lgcoef = lgcoef.sort_values(by=\"Odds_ratio\", ascending=False)\n",
    "lgcoef"
   ]
  },
  {
   "cell_type": "code",
   "execution_count": 27,
   "metadata": {},
   "outputs": [],
   "source": [
    "# By looking at the odds ratio, it is easy to conclude that Female, HomeOwner, Married, Education and the Household size\n",
    "# are relatively the most critical predictor variable that separates the decided fromt eh undecided.\n",
    "# So the focus must be on this five variables as strategy for tilting the election for the party in their favor."
   ]
  },
  {
   "cell_type": "code",
   "execution_count": 28,
   "metadata": {},
   "outputs": [
    {
     "data": {
      "text/plain": [
       "9069    1\n",
       "2603    0\n",
       "7738    0\n",
       "1579    0\n",
       "5058    0\n",
       "       ..\n",
       "5734    0\n",
       "5191    1\n",
       "5390    1\n",
       "860     0\n",
       "7270    1\n",
       "Length: 7000, dtype: int32"
      ]
     },
     "execution_count": 28,
     "metadata": {},
     "output_type": "execute_result"
    }
   ],
   "source": [
    "#Compute class from predicted probability\n",
    "pred_prob=lg.predict(X_train)\n",
    "pred_class = (pred_prob>0.5).astype(np.int)\n",
    "pred_class"
   ]
  },
  {
   "cell_type": "markdown",
   "metadata": {},
   "source": [
    "## Step5 - Model performance measure"
   ]
  },
  {
   "cell_type": "code",
   "execution_count": 29,
   "metadata": {},
   "outputs": [],
   "source": [
    "from sklearn.metrics import accuracy_score, confusion_matrix, recall_score, precision_score"
   ]
  },
  {
   "cell_type": "code",
   "execution_count": 30,
   "metadata": {},
   "outputs": [
    {
     "data": {
      "image/png": "[encoded data removed]",
      "text/plain": [
       "<Figure size 432x288 with 2 Axes>"
      ]
     },
     "metadata": {
      "needs_background": "light"
     },
     "output_type": "display_data"
    }
   ],
   "source": [
    "#Confusion matrix\n",
    "confusion=confusion_matrix(Y_train.astype(float), pred_class)\n",
    "sns.heatmap(confusion,annot=True,cmap=(\"Oranges\"),\n",
    "           xticklabels=[\"Undecided\",\"Decided\"],\n",
    "           yticklabels=[\"Undecided\",\"Decided\"],fmt=\"0.0f\")\n",
    "plt.ylabel(\"Actual\")\n",
    "plt.xlabel(\"Predicted\")\n",
    "plt.show()"
   ]
  },
  {
   "cell_type": "code",
   "execution_count": 31,
   "metadata": {},
   "outputs": [
    {
     "name": "stdout",
     "output_type": "stream",
     "text": [
      "accuracy:  0.75\n",
      "recall:  0.63\n",
      "precision:  0.71\n"
     ]
    }
   ],
   "source": [
    "#Accuracy, recall, precision\n",
    "accuracy = round(accuracy_score(Y_train.astype(float), pred_class),2)\n",
    "recall = round(recall_score(Y_train.astype(float), pred_class),2)\n",
    "precision = round(precision_score(Y_train.astype(float), pred_class),2)\n",
    "\n",
    "print(\"accuracy: \",accuracy)\n",
    "print(\"recall: \",recall)\n",
    "print(\"precision: \",precision)"
   ]
  },
  {
   "cell_type": "code",
   "execution_count": 32,
   "metadata": {},
   "outputs": [],
   "source": [
    "# The confustion matrix reveals that\n",
    "# the overall accuracy of the training logit model is reasonable (75% accuracy) but not the best.\n",
    "# Recall is the sensitivity of the model, which is 63%.\n",
    "# Precision is above average(71%). All factors considered, the model is the zone of just satisfactory."
   ]
  },
  {
   "cell_type": "markdown",
   "metadata": {},
   "source": [
    "## Step6 - ROC curve and AUC"
   ]
  },
  {
   "cell_type": "code",
   "execution_count": 35,
   "metadata": {},
   "outputs": [
    {
     "data": {
      "image/png": "[encoded data removed]",
      "text/plain": [
       "<Figure size 432x288 with 1 Axes>"
      ]
     },
     "metadata": {
      "needs_background": "light"
     },
     "output_type": "display_data"
    }
   ],
   "source": [
    "# ROC curve and AUC\n",
    "from sklearn.metrics import roc_auc_score\n",
    "from sklearn.metrics import roc_curve\n",
    "\n",
    "logit_roc_auc = roc_auc_score(Y_train.astype(float), pred_class)\n",
    "fpr, tpr, thresholds = roc_curve(Y_train.astype(float), pred_prob)\n",
    "plt.figure()\n",
    "plt.plot(fpr, tpr, label='Logistic Regression (area = %0.3f)' % logit_roc_auc)\n",
    "plt.plot([0, 1], [0, 1],'r--')\n",
    "plt.xlim([0.0, 1.0])\n",
    "plt.ylim([0.0, 1.05])\n",
    "plt.xlabel('False Positive Rate')\n",
    "plt.ylabel('True Positive Rate')\n",
    "plt.title('Receiver operating characteristic curve')\n",
    "plt.legend(loc=\"lower right\")\n",
    "plt.savefig('Log_ROC')\n",
    "plt.show()"
   ]
  },
  {
   "cell_type": "code",
   "execution_count": 36,
   "metadata": {},
   "outputs": [],
   "source": [
    "#The ROc Curve is fairly steep and covers are(73%) \n",
    "#and appears to separate in a satisfactory manner \n",
    "#the truse positive from false positive cases.\n",
    "\n",
    "# ** The logit model based on training data set appears satisfactory using the six steps approach of the logistic regression"
   ]
  },
  {
   "cell_type": "code",
   "execution_count": 37,
   "metadata": {},
   "outputs": [
    {
     "data": {
      "text/plain": [
       "6252    1\n",
       "4684    0\n",
       "1731    1\n",
       "4742    0\n",
       "4521    0\n",
       "       ..\n",
       "8014    0\n",
       "1074    0\n",
       "3063    0\n",
       "6487    0\n",
       "4705    0\n",
       "Length: 3000, dtype: int32"
      ]
     },
     "execution_count": 37,
     "metadata": {},
     "output_type": "execute_result"
    }
   ],
   "source": [
    "#Compute class from predicted probability\n",
    "pred_prob=lg.predict(X_test)\n",
    "pred_class = (pred_prob>0.5).astype(np.int)\n",
    "pred_class"
   ]
  },
  {
   "cell_type": "code",
   "execution_count": 38,
   "metadata": {},
   "outputs": [
    {
     "name": "stdout",
     "output_type": "stream",
     "text": [
      "accuracy:  0.75\n",
      "recall:  0.61\n",
      "precision:  0.71\n"
     ]
    }
   ],
   "source": [
    "#Accuracy, recall, precision\n",
    "accuracy = round(accuracy_score(Y_test.astype(float), pred_class),2)\n",
    "recall = round(recall_score(Y_test.astype(float), pred_class),2)\n",
    "precision = round(precision_score(Y_test.astype(float), pred_class),2)\n",
    "\n",
    "print(\"accuracy: \",accuracy)\n",
    "print(\"recall: \",recall)\n",
    "print(\"precision: \",precision)"
   ]
  },
  {
   "cell_type": "code",
   "execution_count": 39,
   "metadata": {},
   "outputs": [
    {
     "data": {
      "image/png": "[encoded data removed]",
      "text/plain": [
       "<Figure size 432x288 with 2 Axes>"
      ]
     },
     "metadata": {
      "needs_background": "light"
     },
     "output_type": "display_data"
    }
   ],
   "source": [
    "#Confusion matrix\n",
    "confusion=confusion_matrix(Y_test.astype(float), pred_class)\n",
    "sns.heatmap(confusion,annot=True,cmap=(\"Oranges\"),\n",
    "           xticklabels=[\"Undecided\",\"Decided\"],\n",
    "           yticklabels=[\"Undecided\",\"Decided\"],fmt=\"0.0f\")\n",
    "plt.ylabel(\"Actual\")\n",
    "plt.xlabel(\"Predicted\")\n",
    "plt.show()"
   ]
  },
  {
   "cell_type": "code",
   "execution_count": 40,
   "metadata": {},
   "outputs": [],
   "source": [
    "# The performance of the logistic regression model based for test data\n",
    "# based on the training data appears good\n",
    "#because the test performance has retained the pattern of the training in terms of accuracy, recall and precision."
   ]
  },
  {
   "cell_type": "code",
   "execution_count": null,
   "metadata": {},
   "outputs": [],
   "source": []
  }
 ],
 "metadata": {
  "kernelspec": {
   "display_name": "Python 3 (ipykernel)",
   "language": "python",
   "name": "python3"
  },
  "language_info": {
   "codemirror_mode": {
    "name": "ipython",
    "version": 3
   },
   "file_extension": ".py",
   "mimetype": "text/x-python",
   "name": "python",
   "nbconvert_exporter": "python",
   "pygments_lexer": "ipython3",
   "version": "3.9.7"
  }
 },
 "nbformat": 4,
 "nbformat_minor": 4
}
