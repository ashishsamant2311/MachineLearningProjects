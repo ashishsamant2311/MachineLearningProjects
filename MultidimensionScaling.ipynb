{
  "nbformat": 4,
  "nbformat_minor": 0,
  "metadata": {
    "colab": {
      "name": "MultidimensionScaling.ipynb",
      "provenance": []
    },
    "kernelspec": {
      "name": "python3",
      "display_name": "Python 3"
    },
    "language_info": {
      "name": "python"
    }
  },
  "cells": [
    {
      "cell_type": "code",
      "execution_count": 9,
      "metadata": {
        "colab": {
          "base_uri": "https://localhost:8080/",
          "height": 610
        },
        "id": "WyQ6ATi_hq8O",
        "outputId": "4c6c459d-5ca4-4b33-9cc3-f86b7ef052cd"
      },
      "outputs": [
        {
          "output_type": "stream",
          "name": "stdout",
          "text": [
            "Index(['Delhi', 'Mumbai', 'Chennai', 'Calcutta'], dtype='object')\n",
            "[[ 1022.6477999   -320.03113733]\n",
            " [ -299.06365382  -864.7152849 ]\n",
            " [-1109.45819093   186.70765176]\n",
            " [  385.87404485   998.03877047]]\n",
            "sklearn stress :263.5673847916439\n",
            "This stress value is not normalized\n"
          ]
        },
        {
          "output_type": "display_data",
          "data": {
            "text/plain": [
              "<Figure size 576x576 with 1 Axes>"
            ],
            "image/png": "[encoded data removed]"
          },
          "metadata": {
            "needs_background": "light"
          }
        }
      ],
      "source": [
        "import pandas as pd\n",
        "import numpy as np\n",
        "from sklearn import manifold\n",
        "import matplotlib.pyplot as plt\n",
        "\n",
        "data=pd.read_csv('cities.csv',index_col='cities')\n",
        "mds = manifold.MDS(n_components=2, dissimilarity=\"precomputed\", random_state=1)\n",
        "\n",
        "results = mds.fit(data.values)\n",
        "\n",
        "cities = data.columns\n",
        "print(cities)\n",
        "coords = results.embedding_\n",
        "print(coords)\n",
        "\n",
        "## sklearn stress\n",
        "\n",
        "stress = mds.stress_\n",
        "print(\"sklearn stress :{}\".format(stress))\n",
        "print(\"This stress value is not normalized\")\n",
        "\n",
        "## Plotting the figures\n",
        "\n",
        "fig=plt.figure(figsize=(8,8))\n",
        "plt.scatter(coords[:,0],coords[:,1])\n",
        "for label, x, y in zip(cities, coords[:,0],coords[:,1]):\n",
        "  plt.annotate(\n",
        "      label,\n",
        "      xy = (x,y),\n",
        "      xytext=(-5,5),\n",
        "      textcoords='offset points'\n",
        "  )\n",
        "plt.show()\n"
      ]
    }
  ]
}