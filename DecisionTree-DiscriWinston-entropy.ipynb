{
 "cells": [
  {
   "cell_type": "code",
   "execution_count": 2,
   "metadata": {},
   "outputs": [],
   "source": [
    "#Example Problem-Decision Tree-DiscriWinston"
   ]
  },
  {
   "cell_type": "code",
   "execution_count": 3,
   "metadata": {},
   "outputs": [],
   "source": [
    "import pandas as pd\n",
    "import numpy as np\n",
    "from sklearn.preprocessing import StandardScaler\n",
    "from sklearn.model_selection import train_test_split\n",
    "from sklearn.metrics import accuracy_score\n",
    "from sklearn.metrics import confusion_matrix,roc_curve,roc_auc_score\n",
    "from sklearn.metrics import precision_score,recall_score\n",
    "import itertools\n",
    "from sklearn.tree import DecisionTreeClassifier\n",
    "import seaborn as sns\n",
    "import matplotlib.pyplot as plt"
   ]
  },
  {
   "cell_type": "code",
   "execution_count": 4,
   "metadata": {},
   "outputs": [],
   "source": [
    "import os\n",
    "os.chdir(\"D:/WORK/Great Lakes/5th Term/PAM/Class10\")"
   ]
  },
  {
   "cell_type": "code",
   "execution_count": 5,
   "metadata": {},
   "outputs": [
    {
     "data": {
      "text/html": [
       "<div>\n",
       "<style scoped>\n",
       "    .dataframe tbody tr th:only-of-type {\n",
       "        vertical-align: middle;\n",
       "    }\n",
       "\n",
       "    .dataframe tbody tr th {\n",
       "        vertical-align: top;\n",
       "    }\n",
       "\n",
       "    .dataframe thead th {\n",
       "        text-align: right;\n",
       "    }\n",
       "</style>\n",
       "<table border=\"1\" class=\"dataframe\">\n",
       "  <thead>\n",
       "    <tr style=\"text-align: right;\">\n",
       "      <th></th>\n",
       "      <th>Person</th>\n",
       "      <th>Income</th>\n",
       "      <th>InvestAmt</th>\n",
       "      <th>WSJSubscriber</th>\n",
       "    </tr>\n",
       "  </thead>\n",
       "  <tbody>\n",
       "    <tr>\n",
       "      <th>0</th>\n",
       "      <td>1</td>\n",
       "      <td>66.4</td>\n",
       "      <td>26.9</td>\n",
       "      <td>No</td>\n",
       "    </tr>\n",
       "    <tr>\n",
       "      <th>1</th>\n",
       "      <td>2</td>\n",
       "      <td>68.0</td>\n",
       "      <td>7.1</td>\n",
       "      <td>No</td>\n",
       "    </tr>\n",
       "    <tr>\n",
       "      <th>2</th>\n",
       "      <td>3</td>\n",
       "      <td>54.9</td>\n",
       "      <td>21.5</td>\n",
       "      <td>No</td>\n",
       "    </tr>\n",
       "    <tr>\n",
       "      <th>3</th>\n",
       "      <td>4</td>\n",
       "      <td>50.6</td>\n",
       "      <td>19.3</td>\n",
       "      <td>No</td>\n",
       "    </tr>\n",
       "    <tr>\n",
       "      <th>4</th>\n",
       "      <td>5</td>\n",
       "      <td>54.1</td>\n",
       "      <td>16.7</td>\n",
       "      <td>No</td>\n",
       "    </tr>\n",
       "  </tbody>\n",
       "</table>\n",
       "</div>"
      ],
      "text/plain": [
       "   Person  Income  InvestAmt WSJSubscriber\n",
       "0       1    66.4       26.9            No\n",
       "1       2    68.0        7.1            No\n",
       "2       3    54.9       21.5            No\n",
       "3       4    50.6       19.3            No\n",
       "4       5    54.1       16.7            No"
      ]
     },
     "execution_count": 5,
     "metadata": {},
     "output_type": "execute_result"
    }
   ],
   "source": [
    "#Reading the file\n",
    "mydata=pd.read_csv(\"DiscriWinston.csv\")\n",
    "mydata.head()"
   ]
  },
  {
   "cell_type": "code",
   "execution_count": 6,
   "metadata": {},
   "outputs": [
    {
     "name": "stdout",
     "output_type": "stream",
     "text": [
      "0    No\n",
      "1    No\n",
      "2    No\n",
      "3    No\n",
      "4    No\n",
      "Name: WSJSubscriber, dtype: object\n",
      "   Income  InvestAmt\n",
      "0    66.4       26.9\n",
      "1    68.0        7.1\n",
      "2    54.9       21.5\n",
      "3    50.6       19.3\n",
      "4    54.1       16.7\n"
     ]
    }
   ],
   "source": [
    "Y=mydata[\"WSJSubscriber\"]\n",
    "X=mydata.iloc[:,1:3]\n",
    "print(Y.head())\n",
    "print(X.head())"
   ]
  },
  {
   "cell_type": "code",
   "execution_count": 19,
   "metadata": {},
   "outputs": [
    {
     "data": {
      "text/plain": [
       "0.952"
      ]
     },
     "execution_count": 19,
     "metadata": {},
     "output_type": "execute_result"
    }
   ],
   "source": [
    "from sklearn.tree import DecisionTreeClassifier\n",
    "clf_tree=DecisionTreeClassifier(criterion=\"gini\",max_depth=3)\n",
    "clf_tree.fit(X,Y)\n",
    "tree_predict=clf_tree.predict(X)\n",
    "round(accuracy_score(Y,tree_predict),3)"
   ]
  },
  {
   "cell_type": "code",
   "execution_count": 20,
   "metadata": {},
   "outputs": [
    {
     "data": {
      "text/plain": [
       "[Text(125.55000000000001, 190.26, 'X[1] <= 36.0\\ngini = 0.436\\nsamples = 84\\nvalue = [57, 27]\\nclass = y[0]'),\n",
       " Text(83.7, 135.9, 'gini = 0.0\\nsamples = 50\\nvalue = [50, 0]\\nclass = y[0]'),\n",
       " Text(167.4, 135.9, 'X[1] <= 46.4\\ngini = 0.327\\nsamples = 34\\nvalue = [7, 27]\\nclass = y[1]'),\n",
       " Text(83.7, 81.53999999999999, 'X[0] <= 85.65\\ngini = 0.5\\nsamples = 12\\nvalue = [6, 6]\\nclass = y[0]'),\n",
       " Text(41.85, 27.180000000000007, 'gini = 0.444\\nsamples = 9\\nvalue = [3, 6]\\nclass = y[1]'),\n",
       " Text(125.55000000000001, 27.180000000000007, 'gini = 0.0\\nsamples = 3\\nvalue = [3, 0]\\nclass = y[0]'),\n",
       " Text(251.10000000000002, 81.53999999999999, 'X[1] <= 51.05\\ngini = 0.087\\nsamples = 22\\nvalue = [1, 21]\\nclass = y[1]'),\n",
       " Text(209.25, 27.180000000000007, 'gini = 0.278\\nsamples = 6\\nvalue = [1, 5]\\nclass = y[1]'),\n",
       " Text(292.95, 27.180000000000007, 'gini = 0.0\\nsamples = 16\\nvalue = [0, 16]\\nclass = y[1]')]"
      ]
     },
     "execution_count": 20,
     "metadata": {},
     "output_type": "execute_result"
    },
    {
     "data": {
      "image/png": "[encoded data removed]",
      "text/plain": [
       "<Figure size 432x288 with 1 Axes>"
      ]
     },
     "metadata": {
      "needs_background": "light"
     },
     "output_type": "display_data"
    }
   ],
   "source": [
    "from sklearn import tree\n",
    "tree.plot_tree(clf_tree, filled=True, class_names=True, fontsize=8)"
   ]
  },
  {
   "cell_type": "code",
   "execution_count": 21,
   "metadata": {},
   "outputs": [
    {
     "data": {
      "text/plain": [
       "array([[53,  4],\n",
       "       [ 0, 27]], dtype=int64)"
      ]
     },
     "execution_count": 21,
     "metadata": {},
     "output_type": "execute_result"
    }
   ],
   "source": [
    "confusion_matrix(Y,tree_predict)"
   ]
  },
  {
   "cell_type": "code",
   "execution_count": 22,
   "metadata": {},
   "outputs": [
    {
     "data": {
      "text/plain": [
       "<AxesSubplot:>"
      ]
     },
     "execution_count": 22,
     "metadata": {},
     "output_type": "execute_result"
    },
    {
     "data": {
      "image/png": "[encoded data removed]",
      "text/plain": [
       "<Figure size 432x288 with 2 Axes>"
      ]
     },
     "metadata": {
      "needs_background": "light"
     },
     "output_type": "display_data"
    }
   ],
   "source": [
    "cm=confusion_matrix(Y,tree_predict)\n",
    "sns.heatmap(cm,annot=True,cmap=\"Oranges\")"
   ]
  },
  {
   "cell_type": "code",
   "execution_count": 23,
   "metadata": {},
   "outputs": [
    {
     "name": "stdout",
     "output_type": "stream",
     "text": [
      "              precision    recall  f1-score   support\n",
      "\n",
      "          No       1.00      0.93      0.96        57\n",
      "         Yes       0.87      1.00      0.93        27\n",
      "\n",
      "    accuracy                           0.95        84\n",
      "   macro avg       0.94      0.96      0.95        84\n",
      "weighted avg       0.96      0.95      0.95        84\n",
      "\n"
     ]
    }
   ],
   "source": [
    "from sklearn.metrics import classification_report\n",
    "Report=classification_report(Y,tree_predict)\n",
    "print((Report))"
   ]
  },
  {
   "cell_type": "code",
   "execution_count": 24,
   "metadata": {},
   "outputs": [
    {
     "data": {
      "text/html": [
       "<div>\n",
       "<style scoped>\n",
       "    .dataframe tbody tr th:only-of-type {\n",
       "        vertical-align: middle;\n",
       "    }\n",
       "\n",
       "    .dataframe tbody tr th {\n",
       "        vertical-align: top;\n",
       "    }\n",
       "\n",
       "    .dataframe thead th {\n",
       "        text-align: right;\n",
       "    }\n",
       "</style>\n",
       "<table border=\"1\" class=\"dataframe\">\n",
       "  <thead>\n",
       "    <tr style=\"text-align: right;\">\n",
       "      <th></th>\n",
       "      <th>Income</th>\n",
       "      <th>InvestAmt</th>\n",
       "    </tr>\n",
       "  </thead>\n",
       "  <tbody>\n",
       "    <tr>\n",
       "      <th>0</th>\n",
       "      <td>0.064566</td>\n",
       "      <td>0.935434</td>\n",
       "    </tr>\n",
       "  </tbody>\n",
       "</table>\n",
       "</div>"
      ],
      "text/plain": [
       "     Income  InvestAmt\n",
       "0  0.064566   0.935434"
      ]
     },
     "execution_count": 24,
     "metadata": {},
     "output_type": "execute_result"
    }
   ],
   "source": [
    "importances=clf_tree.feature_importances_\n",
    "importances\n",
    "importances=pd.DataFrame(importances)\n",
    "Importance=importances.transpose()\n",
    "Importance.columns=[\"Income\",\"InvestAmt\"]\n",
    "Importance"
   ]
  },
  {
   "cell_type": "code",
   "execution_count": 25,
   "metadata": {},
   "outputs": [
    {
     "data": {
      "text/plain": [
       "GridSearchCV(cv=10, estimator=DecisionTreeClassifier(),\n",
       "             param_grid=[{'criterion': ['gini', 'entropy'],\n",
       "                          'max_depth': range(2, 10)}],\n",
       "             scoring='roc_auc')"
      ]
     },
     "execution_count": 25,
     "metadata": {},
     "output_type": "execute_result"
    }
   ],
   "source": [
    "from sklearn.model_selection import GridSearchCV\n",
    "tuned_parameters=[{\"criterion\":[\"gini\",\"entropy\"],\n",
    "                  \"max_depth\":range(2,10)}]\n",
    "clf_tree=DecisionTreeClassifier()\n",
    "clf=GridSearchCV(clf_tree,\n",
    "                tuned_parameters,\n",
    "                cv=10,\n",
    "                scoring=\"roc_auc\")\n",
    "clf.fit(X,Y)"
   ]
  },
  {
   "cell_type": "code",
   "execution_count": 26,
   "metadata": {},
   "outputs": [
    {
     "data": {
      "text/plain": [
       "0.9883333333333333"
      ]
     },
     "execution_count": 26,
     "metadata": {},
     "output_type": "execute_result"
    }
   ],
   "source": [
    "clf.best_score_"
   ]
  },
  {
   "cell_type": "code",
   "execution_count": 27,
   "metadata": {},
   "outputs": [
    {
     "data": {
      "text/plain": [
       "{'criterion': 'entropy', 'max_depth': 3}"
      ]
     },
     "execution_count": 27,
     "metadata": {},
     "output_type": "execute_result"
    }
   ],
   "source": [
    "clf.best_params_"
   ]
  },
  {
   "cell_type": "code",
   "execution_count": 28,
   "metadata": {},
   "outputs": [
    {
     "data": {
      "text/plain": [
       "0.964"
      ]
     },
     "execution_count": 28,
     "metadata": {},
     "output_type": "execute_result"
    }
   ],
   "source": [
    "from sklearn.tree import DecisionTreeClassifier\n",
    "clf_tree=DecisionTreeClassifier(criterion=\"entropy\",max_depth=3)\n",
    "clf_tree.fit(X,Y)\n",
    "tree_predict=clf_tree.predict(X)\n",
    "round(accuracy_score(Y,tree_predict),3)"
   ]
  },
  {
   "cell_type": "code",
   "execution_count": 29,
   "metadata": {},
   "outputs": [
    {
     "data": {
      "text/plain": [
       "[Text(133.92000000000002, 190.26, 'X[1] <= 36.0\\nentropy = 0.906\\nsamples = 84\\nvalue = [57, 27]\\nclass = y[0]'),\n",
       " Text(66.96000000000001, 135.9, 'entropy = 0.0\\nsamples = 50\\nvalue = [50, 0]\\nclass = y[0]'),\n",
       " Text(200.88000000000002, 135.9, 'X[1] <= 51.05\\nentropy = 0.734\\nsamples = 34\\nvalue = [7, 27]\\nclass = y[1]'),\n",
       " Text(133.92000000000002, 81.53999999999999, 'X[0] <= 85.65\\nentropy = 0.964\\nsamples = 18\\nvalue = [7, 11]\\nclass = y[1]'),\n",
       " Text(66.96000000000001, 27.180000000000007, 'entropy = 0.75\\nsamples = 14\\nvalue = [3, 11]\\nclass = y[1]'),\n",
       " Text(200.88000000000002, 27.180000000000007, 'entropy = 0.0\\nsamples = 4\\nvalue = [4, 0]\\nclass = y[0]'),\n",
       " Text(267.84000000000003, 81.53999999999999, 'entropy = 0.0\\nsamples = 16\\nvalue = [0, 16]\\nclass = y[1]')]"
      ]
     },
     "execution_count": 29,
     "metadata": {},
     "output_type": "execute_result"
    },
    {
     "data": {
      "image/png": "[encoded data removed]",
      "text/plain": [
       "<Figure size 432x288 with 1 Axes>"
      ]
     },
     "metadata": {
      "needs_background": "light"
     },
     "output_type": "display_data"
    }
   ],
   "source": [
    "from sklearn import tree\n",
    "tree.plot_tree(clf_tree, filled=True, class_names=True, fontsize=8)"
   ]
  },
  {
   "cell_type": "code",
   "execution_count": 30,
   "metadata": {},
   "outputs": [
    {
     "data": {
      "text/plain": [
       "array([[54,  3],\n",
       "       [ 0, 27]], dtype=int64)"
      ]
     },
     "execution_count": 30,
     "metadata": {},
     "output_type": "execute_result"
    }
   ],
   "source": [
    "confusion_matrix(Y,tree_predict)"
   ]
  },
  {
   "cell_type": "code",
   "execution_count": 31,
   "metadata": {},
   "outputs": [
    {
     "data": {
      "text/plain": [
       "<AxesSubplot:>"
      ]
     },
     "execution_count": 31,
     "metadata": {},
     "output_type": "execute_result"
    },
    {
     "data": {
      "image/png": "[encoded data removed]",
      "text/plain": [
       "<Figure size 432x288 with 2 Axes>"
      ]
     },
     "metadata": {
      "needs_background": "light"
     },
     "output_type": "display_data"
    }
   ],
   "source": [
    "cm=confusion_matrix(Y,tree_predict)\n",
    "sns.heatmap(cm,annot=True,cmap=\"Oranges\")"
   ]
  },
  {
   "cell_type": "code",
   "execution_count": 32,
   "metadata": {},
   "outputs": [
    {
     "name": "stdout",
     "output_type": "stream",
     "text": [
      "              precision    recall  f1-score   support\n",
      "\n",
      "          No       1.00      0.95      0.97        57\n",
      "         Yes       0.90      1.00      0.95        27\n",
      "\n",
      "    accuracy                           0.96        84\n",
      "   macro avg       0.95      0.97      0.96        84\n",
      "weighted avg       0.97      0.96      0.96        84\n",
      "\n"
     ]
    }
   ],
   "source": [
    "from sklearn.metrics import classification_report\n",
    "Report=classification_report(Y,tree_predict)\n",
    "print((Report))"
   ]
  },
  {
   "cell_type": "code",
   "execution_count": 33,
   "metadata": {},
   "outputs": [
    {
     "data": {
      "text/html": [
       "<div>\n",
       "<style scoped>\n",
       "    .dataframe tbody tr th:only-of-type {\n",
       "        vertical-align: middle;\n",
       "    }\n",
       "\n",
       "    .dataframe tbody tr th {\n",
       "        vertical-align: top;\n",
       "    }\n",
       "\n",
       "    .dataframe thead th {\n",
       "        text-align: right;\n",
       "    }\n",
       "</style>\n",
       "<table border=\"1\" class=\"dataframe\">\n",
       "  <thead>\n",
       "    <tr style=\"text-align: right;\">\n",
       "      <th></th>\n",
       "      <th>Income</th>\n",
       "      <th>InvestAmt</th>\n",
       "    </tr>\n",
       "  </thead>\n",
       "  <tbody>\n",
       "    <tr>\n",
       "      <th>0</th>\n",
       "      <td>0.104553</td>\n",
       "      <td>0.895447</td>\n",
       "    </tr>\n",
       "  </tbody>\n",
       "</table>\n",
       "</div>"
      ],
      "text/plain": [
       "     Income  InvestAmt\n",
       "0  0.104553   0.895447"
      ]
     },
     "execution_count": 33,
     "metadata": {},
     "output_type": "execute_result"
    }
   ],
   "source": [
    "importances=clf_tree.feature_importances_\n",
    "importances\n",
    "importances=pd.DataFrame(importances)\n",
    "Importance=importances.transpose()\n",
    "Importance.columns=[\"Income\",\"InvestAmt\"]\n",
    "Importance"
   ]
  },
  {
   "cell_type": "code",
   "execution_count": null,
   "metadata": {},
   "outputs": [],
   "source": []
  }
 ],
 "metadata": {
  "kernelspec": {
   "display_name": "Python 3",
   "language": "python",
   "name": "python3"
  },
  "language_info": {
   "codemirror_mode": {
    "name": "ipython",
    "version": 3
   },
   "file_extension": ".py",
   "mimetype": "text/x-python",
   "name": "python",
   "nbconvert_exporter": "python",
   "pygments_lexer": "ipython3",
   "version": "3.8.5"
  }
 },
 "nbformat": 4,
 "nbformat_minor": 4
}
