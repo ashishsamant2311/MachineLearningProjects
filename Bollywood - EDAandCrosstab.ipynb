{
 "cells": [
  {
   "cell_type": "markdown",
   "id": "56746d45",
   "metadata": {},
   "source": [
    "Question 1: How many records are present in the dataset? Print the metadata information of the dataset?"
   ]
  },
  {
   "cell_type": "code",
   "execution_count": 35,
   "id": "dc1b6d1d",
   "metadata": {},
   "outputs": [
    {
     "name": "stdout",
     "output_type": "stream",
     "text": [
      "Number of Records:  149\n",
      "\n",
      "\n",
      "\n",
      "<class 'pandas.core.frame.DataFrame'>\n",
      "RangeIndex: 149 entries, 0 to 148\n",
      "Data columns (total 10 columns):\n",
      " #   Column               Non-Null Count  Dtype  \n",
      "---  ------               --------------  -----  \n",
      " 0   SlNo                 149 non-null    int64  \n",
      " 1   Release Date         149 non-null    object \n",
      " 2   MovieName            149 non-null    object \n",
      " 3   ReleaseTime          149 non-null    object \n",
      " 4   Genre                149 non-null    object \n",
      " 5   Budget               149 non-null    int64  \n",
      " 6   BoxOfficeCollection  149 non-null    float64\n",
      " 7   YoutubeViews         149 non-null    int64  \n",
      " 8   YoutubeLikes         149 non-null    int64  \n",
      " 9   YoutubeDislikes      149 non-null    int64  \n",
      "dtypes: float64(1), int64(5), object(4)"
     ]
    }
   ],
   "source": [
    "#Importing Pandas to work with DataFrames\n",
    "import pandas as pd\n",
    "\n",
    "#Loads the dataset into a Pandas DataFrame\n",
    "mydata=pd.read_csv(\"bollywood.csv\") \n",
    "\n",
    "# Shape[0] returns the number of rows in a dataset, Shape[1] returns number of columns.\n",
    "rows = mydata.shape[0]  \n",
    "\n",
    "#print the parameters of the method\n",
    "print(\"Number of Records: \", rows)\n",
    "\n",
    "#print 2 blank lines for ease of readability \n",
    "print('\\n'*2)\n",
    "\n",
    "#Computing metadata of the dataset\n",
    "#The parameter verbose = True displays all the columns and their respective DataTypes\n",
    "#The parameter memory_usage = False does not display the memory usage\n",
    "mydata.info(verbose=True,memory_usage=False)"
   ]
  },
  {
   "cell_type": "markdown",
   "id": "ba218089",
   "metadata": {},
   "source": [
    "Question 2: How many movies got released in each genre? Which genre had the highest number of releases? Sort number of releases in each genre in decending order?\n"
   ]
  },
  {
   "cell_type": "code",
   "execution_count": 36,
   "id": "a94397eb",
   "metadata": {},
   "outputs": [
    {
     "name": "stdout",
     "output_type": "stream",
     "text": [
      "          SlNo\n",
      "Genre         \n",
      "Action      24\n",
      "Comedy      36\n",
      "Drama       35\n",
      "Romance     25\n",
      "Thriller    29\n"
     ]
    }
   ],
   "source": [
    "\n",
    "#pivot_table Creates a pivot table \n",
    "#Parameters\n",
    "#values decides which column will be subjected to aggregation function\n",
    "#Index decides based on which column we will aggregate\n",
    "#aggfunc decides how we will aggregate.\n",
    "\n",
    "Table1=pd.pivot_table(mydata,values=[\"SlNo\"],index=[\"Genre\"],aggfunc=\"count\")\n",
    "\n",
    "print(Table1.round(2))"
   ]
  },
  {
   "cell_type": "markdown",
   "id": "50596aba",
   "metadata": {},
   "source": [
    "Answer: The Comedy genre had the highest number of releases."
   ]
  },
  {
   "cell_type": "markdown",
   "id": "c775e22d",
   "metadata": {},
   "source": [
    "Question 3: How many movies in each genre got released in different release times like long weekend, festive season, etc\n"
   ]
  },
  {
   "cell_type": "code",
   "execution_count": 37,
   "id": "64fba8dd",
   "metadata": {},
   "outputs": [
    {
     "name": "stdout",
     "output_type": "stream",
     "text": [
      "ReleaseTime  FS  HS  LW   N  Total\n",
      "Genre                             \n",
      "Action        3   3   3  15     24\n",
      "Comedy        3   5   5  23     36\n",
      "Drama         4   6   1  24     35\n",
      "Romance       3   3   4  15     25\n",
      "Thriller      4   1   2  22     29\n",
      "Total        17  18  15  99    149\n"
     ]
    }
   ],
   "source": [
    "\n",
    "#crosstab helps us to find occurrences of combination of two values\n",
    "#First parameter is the first column for the combination\n",
    "#Second parameter is the second column for the combination\n",
    "#margins = True helps us to create column and row-wise totals\n",
    "#margins_name = Name of the total column\n",
    "\n",
    "Table2=pd.crosstab(mydata.Genre,mydata.ReleaseTime,margins=True, margins_name=\"Total\")\n",
    "print(Table2)"
   ]
  },
  {
   "cell_type": "markdown",
   "id": "02aec932",
   "metadata": {},
   "source": [
    "Question 4: Which month of the year, maximum number movie release are seen"
   ]
  },
  {
   "cell_type": "code",
   "execution_count": 38,
   "id": "fa973128",
   "metadata": {},
   "outputs": [
    {
     "name": "stdout",
     "output_type": "stream",
     "text": [
      "   Month  serial\n",
      "0      1      20\n"
     ]
    }
   ],
   "source": [
    "\n",
    "#Creating a new column to hold the Month of Release\n",
    "mydata['Month'] = pd.DatetimeIndex(mydata['Release Date']).month\n",
    "\n",
    "#pivot_table Creates a pivot table \n",
    "#Parameters\n",
    "#values decides which column will be subjected to aggregation function\n",
    "#Index decides based on which column we will aggregate\n",
    "#aggfunc decides how we will aggregate.s\n",
    "\n",
    "#Table3=pd.pivot_table(mydata,values=[\"SlNo\"],index=[\"Month\"],aggfunc=\"count\").reset_index().rename(columns={'SlNo': 'serial'})\n",
    "\n",
    "#Table3.sort_values(by ='serial', ascending = False)\n",
    "\n",
    "\n",
    "#print(Table3.round(2))\n",
    "\n",
    "Table3=pd.pivot_table(mydata,values=[\"SlNo\"],index=[\"Month\"],aggfunc=\"count\").reset_index().rename(columns={'SlNo': 'serial'})\n",
    "\n",
    "print(Table3.sort_values(by ='serial', ascending = False).head(1))"
   ]
  },
  {
   "cell_type": "markdown",
   "id": "e3cb80f5",
   "metadata": {},
   "source": [
    "Answer: Thus, Maximum number of movie releases happen in Month 1 (January)"
   ]
  },
  {
   "cell_type": "markdown",
   "id": "fa0b1b76",
   "metadata": {},
   "source": [
    "Question 5: Which month of the year typically sees most release of high budgeted movies, that is, movies with budget of 25 crore or more?"
   ]
  },
  {
   "cell_type": "code",
   "execution_count": 39,
   "id": "d2b747bd",
   "metadata": {},
   "outputs": [
    {
     "name": "stdout",
     "output_type": "stream",
     "text": [
      "The Month with most release of high budgeted movies is Month 2\n",
      "The Month has 9 releases.\n"
     ]
    }
   ],
   "source": [
    "\n",
    "#Setting up a filter for films with budget over 25 crore\n",
    "data1=mydata.loc[mydata['Budget'] >= 25] \n",
    "\n",
    "#Creating a pivot table\n",
    "#Parameters\n",
    "#values decides which column will be subjected to aggregation function\n",
    "#Index decides based on which column we will aggregate\n",
    "#aggfunc decides how we will aggregate.\n",
    "#reset_Index().rename will assign a new name to the aggregated column\n",
    "Table4=pd.pivot_table(data1,values=[\"Budget\"],index=[\"Month\"],aggfunc=\"count\").reset_index().rename(columns={'Budget': 'HighBudgetCount'})\n",
    "\n",
    "#Return the highest count in the aggregated column\n",
    "max_count = Table4[\"HighBudgetCount\"].max()\n",
    "\n",
    "#Return the month number with count = max_count calculated above. \n",
    "month_num = Table4.loc[Table4[\"HighBudgetCount\"] == max_count][\"Month\"].min()\n",
    "print(\"The Month with most release of high budgeted movies is Month\", month_num)\n",
    "print(f\"The Month has {max_count} releases.\")\n",
    "\n",
    "\n"
   ]
  },
  {
   "cell_type": "markdown",
   "id": "c6e5fdeb",
   "metadata": {},
   "source": [
    "Question 6: Which are the top 10 movies with maximum return on investment (ROI)? "
   ]
  },
  {
   "cell_type": "code",
   "execution_count": 40,
   "id": "095a3504",
   "metadata": {},
   "outputs": [
    {
     "name": "stdout",
     "output_type": "stream",
     "text": [
      "                     MovieName       ROI\n",
      "64                  Aashiqui 2  8.166667\n",
      "89                          PK  7.647059\n",
      "132                Grand Masti  7.514286\n",
      "135               The Lunchbox  7.500000\n",
      "87                      Fukrey  6.240000\n",
      "58                    Mary Kom  5.933333\n",
      "128                     Shahid  5.666667\n",
      "37   Humpty Sharma Ki Dulhania  5.500000\n",
      "101         Bhaag Milkha Bhaag  4.466667\n",
      "115            Chennai Express  4.266667\n"
     ]
    }
   ],
   "source": [
    "\n",
    "\n",
    "data2=mydata['ROI'] = mydata.apply(lambda x: (x['BoxOfficeCollection'] - x['Budget'])/x['Budget'], axis=1)\n",
    "print(mydata.nlargest(10,['ROI'])[['MovieName', 'ROI']])"
   ]
  },
  {
   "cell_type": "markdown",
   "id": "ecf75b39",
   "metadata": {},
   "source": [
    "Question 7: Do the movies have higher ROI if they get released on festive seasons or long weekend? Calculate the average ROI for different release times."
   ]
  },
  {
   "cell_type": "code",
   "execution_count": 41,
   "id": "0451da09",
   "metadata": {},
   "outputs": [
    {
     "name": "stdout",
     "output_type": "stream",
     "text": [
      "  ReleaseTime       ROI\n",
      "0          FS  0.973853\n",
      "1          HS  0.850867\n",
      "2          LW  1.127205\n",
      "3           N  0.657722\n"
     ]
    }
   ],
   "source": [
    "\n",
    "print(mydata.groupby('ReleaseTime', as_index=False)['ROI'].mean())"
   ]
  },
  {
   "cell_type": "markdown",
   "id": "960ecfdb",
   "metadata": {},
   "source": [
    "Answer: The movies have a higher ROI if they are released on Long Weekends."
   ]
  },
  {
   "cell_type": "markdown",
   "id": "bf8ac385",
   "metadata": {},
   "source": [
    "Question 8: Draw a histogram and a distribution plot to find out the distribution of movie budgets. Interpret the plot to conclude if the most movies are high or low budgeted movies."
   ]
  },
  {
   "cell_type": "code",
   "execution_count": 42,
   "id": "1216cc2a",
   "metadata": {},
   "outputs": [
    {
     "data": {
      "image/png": "[encoded data removed]",
      "text/plain": [
       "<Figure size 432x288 with 1 Axes>"
      ]
     },
     "metadata": {
      "needs_background": "light"
     },
     "output_type": "display_data"
    },
    {
     "name": "stderr",
     "output_type": "stream",
     "text": [
      "C:\\Users\\ashis\\anaconda3\\lib\\site-packages\\seaborn\\distributions.py:2619: FutureWarning: `distplot` is a deprecated function and will be removed in a future version. Please adapt your code to use either `displot` (a figure-level function with similar flexibility) or `histplot` (an axes-level function for histograms).\n",
      "  warnings.warn(msg, FutureWarning)\n",
      "No handles with labels found to put in legend.\n"
     ]
    },
    {
     "data": {
      "text/plain": [
       "Text(0.5, 1.0, 'Distribution of Budget')"
      ]
     },
     "execution_count": 42,
     "metadata": {},
     "output_type": "execute_result"
    },
    {
     "data": {
      "image/png": "[encoded data removed]",
      "text/plain": [
       "<Figure size 432x288 with 1 Axes>"
      ]
     },
     "metadata": {
      "needs_background": "light"
     },
     "output_type": "display_data"
    }
   ],
   "source": [
    "\n",
    "import seaborn as sn\n",
    "import matplotlib.pyplot as plt\n",
    "sn.histplot(mydata.Budget,color=\"r\")\n",
    "#sn.displot(mydata.Budget,color=\"r\")\n",
    "plt.show()\n",
    "\n",
    "sn.distplot(mydata.Budget,color=\"b\")\n",
    "plt.legend()\n",
    "plt.title(\"Distribution of Budget\")"
   ]
  },
  {
   "cell_type": "markdown",
   "id": "06ec0e38",
   "metadata": {},
   "source": [
    "Answer: Based on the Histogram and the distribution plot, most of the movies are below a budget of 40 crores. Thus we can say that most of the movies are low budget movies."
   ]
  },
  {
   "cell_type": "markdown",
   "id": "9f58ac23",
   "metadata": {},
   "source": [
    "Question 9: Compare the distribution of ROIs between movies with comedy genre and drama. Which genere typically sees higher ROIs?\n"
   ]
  },
  {
   "cell_type": "code",
   "execution_count": 43,
   "id": "d81a4a86",
   "metadata": {
    "scrolled": true
   },
   "outputs": [
    {
     "name": "stderr",
     "output_type": "stream",
     "text": [
      "C:\\Users\\ashis\\anaconda3\\lib\\site-packages\\seaborn\\distributions.py:2619: FutureWarning: `distplot` is a deprecated function and will be removed in a future version. Please adapt your code to use either `displot` (a figure-level function with similar flexibility) or `histplot` (an axes-level function for histograms).\n",
      "  warnings.warn(msg, FutureWarning)\n",
      "C:\\Users\\ashis\\anaconda3\\lib\\site-packages\\seaborn\\distributions.py:2619: FutureWarning: `distplot` is a deprecated function and will be removed in a future version. Please adapt your code to use either `displot` (a figure-level function with similar flexibility) or `histplot` (an axes-level function for histograms).\n",
      "  warnings.warn(msg, FutureWarning)\n"
     ]
    },
    {
     "data": {
      "text/plain": [
       "Text(0.5, 1.0, 'Comparative Distribution of ROI for Comedy and Drama')"
      ]
     },
     "execution_count": 43,
     "metadata": {},
     "output_type": "execute_result"
    },
    {
     "data": {
      "image/png": "[encoded data removed]",
      "text/plain": [
       "<Figure size 432x288 with 1 Axes>"
      ]
     },
     "metadata": {
      "needs_background": "light"
     },
     "output_type": "display_data"
    }
   ],
   "source": [
    "\n",
    "sn.distplot(mydata.ROI[mydata.Genre ==\"Comedy\"],label=\"Comedy\")\n",
    "sn.distplot(mydata.ROI[mydata.Genre ==\"Drama\"],label=\"Drama\")\n",
    "plt.legend()\n",
    "plt.title(\"Comparative Distribution of ROI for Comedy and Drama\")"
   ]
  },
  {
   "cell_type": "markdown",
   "id": "655ec817",
   "metadata": {},
   "source": [
    "Answer: Out of the two, Drama genre has a higher ROI than Comedy."
   ]
  },
  {
   "cell_type": "markdown",
   "id": "cceb625e",
   "metadata": {},
   "source": [
    "Question10: Is there a correlation between Box Office Collection and YouTube likes? Is the correlation positive or negative?"
   ]
  },
  {
   "cell_type": "code",
   "execution_count": 44,
   "id": "7f934419",
   "metadata": {},
   "outputs": [
    {
     "name": "stdout",
     "output_type": "stream",
     "text": [
      "0.6825165877731297\n"
     ]
    }
   ],
   "source": [
    "\n",
    "column_1 = mydata[\"BoxOfficeCollection\"]\n",
    "column_2 = mydata[\"YoutubeLikes\"]\n",
    "correlation = column_1.corr(column_2)\n",
    "print(correlation)\n",
    "\n",
    "#Another Method\n",
    "#mydata[[\"BoxOfficeCollection\",\"YoutubeLikes\",]].corr()"
   ]
  },
  {
   "cell_type": "markdown",
   "id": "43a4f96c",
   "metadata": {},
   "source": [
    "Answer: Box office collection and YouTube Likes are positively correlated."
   ]
  },
  {
   "cell_type": "markdown",
   "id": "ed65a599",
   "metadata": {},
   "source": [
    "Question 11: Which genre of movies typically sees more YouTube likes? Draw boxplots for each genre of movies to compare"
   ]
  },
  {
   "cell_type": "code",
   "execution_count": 45,
   "id": "4ab22042",
   "metadata": {},
   "outputs": [
    {
     "data": {
      "text/plain": [
       "<AxesSubplot:xlabel='YoutubeLikes', ylabel='Genre'>"
      ]
     },
     "execution_count": 45,
     "metadata": {},
     "output_type": "execute_result"
    },
    {
     "data": {
      "image/png": "[encoded data removed]",
      "text/plain": [
       "<Figure size 432x288 with 1 Axes>"
      ]
     },
     "metadata": {
      "needs_background": "light"
     },
     "output_type": "display_data"
    }
   ],
   "source": [
    "\n",
    "#sn.boxplot(y=mydata.YoutubeLikes, x= mydata.Genre)\n",
    "sn.boxplot(y=mydata.Genre, x= mydata.YoutubeLikes)"
   ]
  },
  {
   "cell_type": "markdown",
   "id": "27c797bb",
   "metadata": {},
   "source": [
    "Answer: Action movies typically see more YouTube likes"
   ]
  },
  {
   "cell_type": "markdown",
   "id": "a3b69a92",
   "metadata": {},
   "source": [
    "Question 12: Which of the variables among Budget, BoxOfficeCollection, YouTubeViews, YouTubeLikes, YouTubeDislikes are highly correlated? Note: Draw pair plot or heatmap\n"
   ]
  },
  {
   "cell_type": "code",
   "execution_count": 46,
   "id": "a8b36e49",
   "metadata": {},
   "outputs": [
    {
     "data": {
      "text/plain": [
       "Text(0.5, 1.0, 'Correlation Heatmap')"
      ]
     },
     "execution_count": 46,
     "metadata": {},
     "output_type": "execute_result"
    },
    {
     "data": {
      "image/png": "[encoded data removed]",
      "text/plain": [
       "<Figure size 432x288 with 2 Axes>"
      ]
     },
     "metadata": {
      "needs_background": "light"
     },
     "output_type": "display_data"
    }
   ],
   "source": [
    "\n",
    "data3=mydata.iloc[:,5:10]\n",
    "data3.head()\n",
    "\n",
    "abcd=data3[[\"Budget\",\"BoxOfficeCollection\",\"YoutubeViews\",\"YoutubeLikes\",\"YoutubeDislikes\"]].corr()\n",
    "sn.heatmap(abcd,annot=True,cmap=\"Blues\",fmt=\"0.6f\")\n",
    "plt.title(\"Correlation Heatmap\")\n",
    "#sn.heatmap(mydata,values=[\"Budget\",\"BoxOfficeCollection\",\"YoutubeViews\",\"YoutubeLikes\",\"YoutubeDislikes\"],annot=True,cmap=\"Blues\",fmt=\"0.2f\")\n",
    "#plt.title(\"Correlation Heatmap\")\n",
    "\n"
   ]
  },
  {
   "cell_type": "markdown",
   "id": "18c7e508",
   "metadata": {},
   "source": [
    "Answer: The cells in darker shades of blue (Except the diagonal) are highly correlated."
   ]
  },
  {
   "cell_type": "code",
   "execution_count": null,
   "id": "fff83f2c",
   "metadata": {},
   "outputs": [],
   "source": []
  }
 ],
 "metadata": {
  "kernelspec": {
   "display_name": "Python 3 (ipykernel)",
   "language": "python",
   "name": "python3"
  },
  "language_info": {
   "codemirror_mode": {
    "name": "ipython",
    "version": 3
   },
   "file_extension": ".py",
   "mimetype": "text/x-python",
   "name": "python",
   "nbconvert_exporter": "python",
   "pygments_lexer": "ipython3",
   "version": "3.9.7"
  }
 },
 "nbformat": 4,
 "nbformat_minor": 5
}
